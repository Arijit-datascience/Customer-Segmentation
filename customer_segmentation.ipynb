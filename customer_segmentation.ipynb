{
  "nbformat": 4,
  "nbformat_minor": 0,
  "metadata": {
    "colab": {
      "name": "customer segmentation.ipynb",
      "provenance": [],
      "collapsed_sections": [],
      "mount_file_id": "1LDoMcqCi-lWbxEbzw6MUHkCVP-Azb2ff",
      "authorship_tag": "ABX9TyNGfczpw21+QdebAbJ+SGYN",
      "include_colab_link": true
    },
    "kernelspec": {
      "name": "python3",
      "display_name": "Python 3"
    },
    "language_info": {
      "name": "python"
    }
  },
  "cells": [
    {
      "cell_type": "markdown",
      "metadata": {
        "id": "view-in-github",
        "colab_type": "text"
      },
      "source": [
        "<a href=\"https://colab.research.google.com/github/Arijit-datascience/Customer-Segmentation/blob/main/customer_segmentation.ipynb\" target=\"_parent\"><img src=\"https://colab.research.google.com/assets/colab-badge.svg\" alt=\"Open In Colab\"/></a>"
      ]
    },
    {
      "cell_type": "markdown",
      "metadata": {
        "id": "pAMMcl450KQT"
      },
      "source": [
        "Customer Segmentation"
      ]
    },
    {
      "cell_type": "markdown",
      "metadata": {
        "id": "oHhDtQGv4_lq"
      },
      "source": [
        "# Importing necessary library "
      ]
    },
    {
      "cell_type": "code",
      "metadata": {
        "id": "NitGAFFtWAMQ"
      },
      "source": [
        "import pandas as pd\n",
        "import numpy as np\n",
        "import math\n",
        "from datetime import datetime\n",
        "import seaborn as sns\n",
        "import matplotlib.pyplot as plt"
      ],
      "execution_count": 1,
      "outputs": []
    },
    {
      "cell_type": "code",
      "metadata": {
        "colab": {
          "base_uri": "https://localhost:8080/"
        },
        "id": "Tb45uk8z3oss",
        "outputId": "eb73200d-0989-42a8-d510-fc799523ae4a"
      },
      "source": [
        "!pip install category_encoders"
      ],
      "execution_count": 2,
      "outputs": [
        {
          "output_type": "stream",
          "text": [
            "Requirement already satisfied: category_encoders in /usr/local/lib/python3.7/dist-packages (2.2.2)\n",
            "Requirement already satisfied: pandas>=0.21.1 in /usr/local/lib/python3.7/dist-packages (from category_encoders) (1.1.5)\n",
            "Requirement already satisfied: numpy>=1.14.0 in /usr/local/lib/python3.7/dist-packages (from category_encoders) (1.19.5)\n",
            "Requirement already satisfied: statsmodels>=0.9.0 in /usr/local/lib/python3.7/dist-packages (from category_encoders) (0.10.2)\n",
            "Requirement already satisfied: scikit-learn>=0.20.0 in /usr/local/lib/python3.7/dist-packages (from category_encoders) (0.22.2.post1)\n",
            "Requirement already satisfied: patsy>=0.5.1 in /usr/local/lib/python3.7/dist-packages (from category_encoders) (0.5.1)\n",
            "Requirement already satisfied: scipy>=1.0.0 in /usr/local/lib/python3.7/dist-packages (from category_encoders) (1.4.1)\n",
            "Requirement already satisfied: python-dateutil>=2.7.3 in /usr/local/lib/python3.7/dist-packages (from pandas>=0.21.1->category_encoders) (2.8.1)\n",
            "Requirement already satisfied: pytz>=2017.2 in /usr/local/lib/python3.7/dist-packages (from pandas>=0.21.1->category_encoders) (2018.9)\n",
            "Requirement already satisfied: joblib>=0.11 in /usr/local/lib/python3.7/dist-packages (from scikit-learn>=0.20.0->category_encoders) (1.0.1)\n",
            "Requirement already satisfied: six in /usr/local/lib/python3.7/dist-packages (from patsy>=0.5.1->category_encoders) (1.15.0)\n"
          ],
          "name": "stdout"
        }
      ]
    },
    {
      "cell_type": "code",
      "metadata": {
        "id": "m0tgZDydTy-l"
      },
      "source": [
        "import datetime as dt\n",
        "import category_encoders as ce\n",
        "from sklearn.model_selection import train_test_split\n",
        "from sklearn.preprocessing import MinMaxScaler, LabelEncoder\n",
        "\n",
        "from sklearn.metrics import roc_curve, auc\n",
        "from sklearn.metrics import confusion_matrix\n",
        "from sklearn.metrics import classification_report\n",
        "from sklearn.model_selection import KFold, cross_val_score\n",
        "from sklearn.model_selection import train_test_split, GridSearchCV\n",
        "from sklearn.ensemble import RandomForestClassifier \n",
        "from sklearn.metrics import accuracy_score\n",
        "from sklearn.cluster import KMeans\n",
        "\n",
        "import time"
      ],
      "execution_count": 61,
      "outputs": []
    },
    {
      "cell_type": "code",
      "metadata": {
        "id": "iCkY71GH30og"
      },
      "source": [
        "plt.style.use('ggplot')\n",
        "pd.set_option('display.max_columns', 500)"
      ],
      "execution_count": 4,
      "outputs": []
    },
    {
      "cell_type": "markdown",
      "metadata": {
        "id": "dSJ7Z__v0gnU"
      },
      "source": [
        "#Reading Data"
      ]
    },
    {
      "cell_type": "code",
      "metadata": {
        "colab": {
          "base_uri": "https://localhost:8080/"
        },
        "id": "B2b1xQIZ1gfV",
        "outputId": "528d4937-b86e-46ca-f6de-37bb00a62834"
      },
      "source": [
        "from google.colab import drive\n",
        "drive.mount('/content/drive')"
      ],
      "execution_count": 5,
      "outputs": [
        {
          "output_type": "stream",
          "text": [
            "Drive already mounted at /content/drive; to attempt to forcibly remount, call drive.mount(\"/content/drive\", force_remount=True).\n"
          ],
          "name": "stdout"
        }
      ]
    },
    {
      "cell_type": "markdown",
      "metadata": {
        "id": "-bGempDo4WST"
      },
      "source": [
        "## Transaction Data..."
      ]
    },
    {
      "cell_type": "code",
      "metadata": {
        "colab": {
          "base_uri": "https://localhost:8080/",
          "height": 292
        },
        "id": "096H0eJiUv9r",
        "outputId": "6988776d-21af-4e97-c31c-5370129fad81"
      },
      "source": [
        "transaction_df = pd.read_excel('/content/drive/MyDrive/Colab Notebooks/Raw data.xlsx', sheet_name='Transaction')\n",
        "transaction_df.drop(columns={'Check'}, inplace=True)\n",
        "transaction_df.head()"
      ],
      "execution_count": 6,
      "outputs": [
        {
          "output_type": "execute_result",
          "data": {
            "text/html": [
              "<div>\n",
              "<style scoped>\n",
              "    .dataframe tbody tr th:only-of-type {\n",
              "        vertical-align: middle;\n",
              "    }\n",
              "\n",
              "    .dataframe tbody tr th {\n",
              "        vertical-align: top;\n",
              "    }\n",
              "\n",
              "    .dataframe thead th {\n",
              "        text-align: right;\n",
              "    }\n",
              "</style>\n",
              "<table border=\"1\" class=\"dataframe\">\n",
              "  <thead>\n",
              "    <tr style=\"text-align: right;\">\n",
              "      <th></th>\n",
              "      <th>transaction_id</th>\n",
              "      <th>product_id</th>\n",
              "      <th>customer_id</th>\n",
              "      <th>transaction_date</th>\n",
              "      <th>online_order</th>\n",
              "      <th>order_status</th>\n",
              "      <th>brand</th>\n",
              "      <th>product_line</th>\n",
              "      <th>product_class</th>\n",
              "      <th>product_size</th>\n",
              "      <th>list_price</th>\n",
              "      <th>standard_cost</th>\n",
              "      <th>product_first_sold_date</th>\n",
              "    </tr>\n",
              "  </thead>\n",
              "  <tbody>\n",
              "    <tr>\n",
              "      <th>0</th>\n",
              "      <td>1</td>\n",
              "      <td>2</td>\n",
              "      <td>2950</td>\n",
              "      <td>2017-02-25</td>\n",
              "      <td>0.0</td>\n",
              "      <td>Approved</td>\n",
              "      <td>Solex</td>\n",
              "      <td>Standard</td>\n",
              "      <td>medium</td>\n",
              "      <td>medium</td>\n",
              "      <td>71.49</td>\n",
              "      <td>53.62</td>\n",
              "      <td>2012-12-02</td>\n",
              "    </tr>\n",
              "    <tr>\n",
              "      <th>1</th>\n",
              "      <td>2</td>\n",
              "      <td>3</td>\n",
              "      <td>3120</td>\n",
              "      <td>2017-05-21</td>\n",
              "      <td>1.0</td>\n",
              "      <td>Approved</td>\n",
              "      <td>Trek Bicycles</td>\n",
              "      <td>Standard</td>\n",
              "      <td>medium</td>\n",
              "      <td>large</td>\n",
              "      <td>2091.47</td>\n",
              "      <td>388.92</td>\n",
              "      <td>2014-03-03</td>\n",
              "    </tr>\n",
              "    <tr>\n",
              "      <th>2</th>\n",
              "      <td>3</td>\n",
              "      <td>37</td>\n",
              "      <td>402</td>\n",
              "      <td>2017-10-16</td>\n",
              "      <td>0.0</td>\n",
              "      <td>Approved</td>\n",
              "      <td>OHM Cycles</td>\n",
              "      <td>Standard</td>\n",
              "      <td>low</td>\n",
              "      <td>medium</td>\n",
              "      <td>1793.43</td>\n",
              "      <td>248.82</td>\n",
              "      <td>1999-07-20</td>\n",
              "    </tr>\n",
              "    <tr>\n",
              "      <th>3</th>\n",
              "      <td>4</td>\n",
              "      <td>88</td>\n",
              "      <td>3135</td>\n",
              "      <td>2017-08-31</td>\n",
              "      <td>0.0</td>\n",
              "      <td>Approved</td>\n",
              "      <td>Norco Bicycles</td>\n",
              "      <td>Standard</td>\n",
              "      <td>medium</td>\n",
              "      <td>medium</td>\n",
              "      <td>1198.46</td>\n",
              "      <td>381.10</td>\n",
              "      <td>1998-12-16</td>\n",
              "    </tr>\n",
              "    <tr>\n",
              "      <th>4</th>\n",
              "      <td>5</td>\n",
              "      <td>78</td>\n",
              "      <td>787</td>\n",
              "      <td>2017-10-01</td>\n",
              "      <td>1.0</td>\n",
              "      <td>Approved</td>\n",
              "      <td>Giant Bicycles</td>\n",
              "      <td>Standard</td>\n",
              "      <td>medium</td>\n",
              "      <td>large</td>\n",
              "      <td>1765.30</td>\n",
              "      <td>709.48</td>\n",
              "      <td>2015-08-10</td>\n",
              "    </tr>\n",
              "  </tbody>\n",
              "</table>\n",
              "</div>"
            ],
            "text/plain": [
              "   transaction_id  product_id  customer_id transaction_date  online_order  \\\n",
              "0               1           2         2950       2017-02-25           0.0   \n",
              "1               2           3         3120       2017-05-21           1.0   \n",
              "2               3          37          402       2017-10-16           0.0   \n",
              "3               4          88         3135       2017-08-31           0.0   \n",
              "4               5          78          787       2017-10-01           1.0   \n",
              "\n",
              "  order_status           brand product_line product_class product_size  \\\n",
              "0     Approved           Solex     Standard        medium       medium   \n",
              "1     Approved   Trek Bicycles     Standard        medium        large   \n",
              "2     Approved      OHM Cycles     Standard           low       medium   \n",
              "3     Approved  Norco Bicycles     Standard        medium       medium   \n",
              "4     Approved  Giant Bicycles     Standard        medium        large   \n",
              "\n",
              "   list_price  standard_cost product_first_sold_date  \n",
              "0       71.49          53.62              2012-12-02  \n",
              "1     2091.47         388.92              2014-03-03  \n",
              "2     1793.43         248.82              1999-07-20  \n",
              "3     1198.46         381.10              1998-12-16  \n",
              "4     1765.30         709.48              2015-08-10  "
            ]
          },
          "metadata": {
            "tags": []
          },
          "execution_count": 6
        }
      ]
    },
    {
      "cell_type": "markdown",
      "metadata": {
        "id": "B6DrXCjm4eWD"
      },
      "source": [
        "## Demographics data"
      ]
    },
    {
      "cell_type": "code",
      "metadata": {
        "colab": {
          "base_uri": "https://localhost:8080/",
          "height": 309
        },
        "id": "0lyHVRGIVGzc",
        "outputId": "980513b6-87a9-4621-a166-5c3a4551c1a1"
      },
      "source": [
        "demog_df = pd.read_excel('/content/drive/MyDrive/Colab Notebooks/Raw data.xlsx', sheet_name='CustomerDemographic')\n",
        "demog_df.drop(columns={'default'}, inplace=True)\n",
        "demog_df.head()"
      ],
      "execution_count": 7,
      "outputs": [
        {
          "output_type": "execute_result",
          "data": {
            "text/html": [
              "<div>\n",
              "<style scoped>\n",
              "    .dataframe tbody tr th:only-of-type {\n",
              "        vertical-align: middle;\n",
              "    }\n",
              "\n",
              "    .dataframe tbody tr th {\n",
              "        vertical-align: top;\n",
              "    }\n",
              "\n",
              "    .dataframe thead th {\n",
              "        text-align: right;\n",
              "    }\n",
              "</style>\n",
              "<table border=\"1\" class=\"dataframe\">\n",
              "  <thead>\n",
              "    <tr style=\"text-align: right;\">\n",
              "      <th></th>\n",
              "      <th>customer_id</th>\n",
              "      <th>first_name</th>\n",
              "      <th>last_name</th>\n",
              "      <th>gender</th>\n",
              "      <th>past_3_years_bike_related_purchases</th>\n",
              "      <th>DOB</th>\n",
              "      <th>job_title</th>\n",
              "      <th>job_industry_category</th>\n",
              "      <th>wealth_segment</th>\n",
              "      <th>deceased_indicator</th>\n",
              "      <th>owns_car</th>\n",
              "      <th>tenure</th>\n",
              "    </tr>\n",
              "  </thead>\n",
              "  <tbody>\n",
              "    <tr>\n",
              "      <th>0</th>\n",
              "      <td>34</td>\n",
              "      <td>Jephthah</td>\n",
              "      <td>Bachmann</td>\n",
              "      <td>U</td>\n",
              "      <td>59</td>\n",
              "      <td>1843-12-21</td>\n",
              "      <td>Legal Assistant</td>\n",
              "      <td>IT</td>\n",
              "      <td>Affluent Customer</td>\n",
              "      <td>N</td>\n",
              "      <td>No</td>\n",
              "      <td>20.0</td>\n",
              "    </tr>\n",
              "    <tr>\n",
              "      <th>1</th>\n",
              "      <td>66</td>\n",
              "      <td>Anselm</td>\n",
              "      <td>Gawne</td>\n",
              "      <td>Male</td>\n",
              "      <td>46</td>\n",
              "      <td>2002-03-11</td>\n",
              "      <td>Account Executive</td>\n",
              "      <td>Argiculture</td>\n",
              "      <td>High Net Worth</td>\n",
              "      <td>N</td>\n",
              "      <td>No</td>\n",
              "      <td>1.0</td>\n",
              "    </tr>\n",
              "    <tr>\n",
              "      <th>2</th>\n",
              "      <td>1888</td>\n",
              "      <td>Sibyl</td>\n",
              "      <td>Scholtz</td>\n",
              "      <td>Female</td>\n",
              "      <td>67</td>\n",
              "      <td>2002-01-26</td>\n",
              "      <td>Food Chemist</td>\n",
              "      <td>Health</td>\n",
              "      <td>Mass Customer</td>\n",
              "      <td>N</td>\n",
              "      <td>Yes</td>\n",
              "      <td>1.0</td>\n",
              "    </tr>\n",
              "    <tr>\n",
              "      <th>3</th>\n",
              "      <td>3435</td>\n",
              "      <td>Stevena</td>\n",
              "      <td>Allcock</td>\n",
              "      <td>Female</td>\n",
              "      <td>80</td>\n",
              "      <td>2002-01-15</td>\n",
              "      <td>Senior Editor</td>\n",
              "      <td>NaN</td>\n",
              "      <td>Affluent Customer</td>\n",
              "      <td>N</td>\n",
              "      <td>No</td>\n",
              "      <td>1.0</td>\n",
              "    </tr>\n",
              "    <tr>\n",
              "      <th>4</th>\n",
              "      <td>2858</td>\n",
              "      <td>Benedicto</td>\n",
              "      <td>Radki</td>\n",
              "      <td>Male</td>\n",
              "      <td>4</td>\n",
              "      <td>2002-01-09</td>\n",
              "      <td>Recruiting Manager</td>\n",
              "      <td>NaN</td>\n",
              "      <td>Mass Customer</td>\n",
              "      <td>N</td>\n",
              "      <td>Yes</td>\n",
              "      <td>1.0</td>\n",
              "    </tr>\n",
              "  </tbody>\n",
              "</table>\n",
              "</div>"
            ],
            "text/plain": [
              "   customer_id first_name last_name  gender  \\\n",
              "0           34   Jephthah  Bachmann       U   \n",
              "1           66     Anselm     Gawne    Male   \n",
              "2         1888      Sibyl   Scholtz  Female   \n",
              "3         3435    Stevena   Allcock  Female   \n",
              "4         2858  Benedicto     Radki    Male   \n",
              "\n",
              "   past_3_years_bike_related_purchases        DOB           job_title  \\\n",
              "0                                   59 1843-12-21     Legal Assistant   \n",
              "1                                   46 2002-03-11   Account Executive   \n",
              "2                                   67 2002-01-26        Food Chemist   \n",
              "3                                   80 2002-01-15       Senior Editor   \n",
              "4                                    4 2002-01-09  Recruiting Manager   \n",
              "\n",
              "  job_industry_category     wealth_segment deceased_indicator owns_car  tenure  \n",
              "0                    IT  Affluent Customer                  N       No    20.0  \n",
              "1           Argiculture     High Net Worth                  N       No     1.0  \n",
              "2                Health      Mass Customer                  N      Yes     1.0  \n",
              "3                   NaN  Affluent Customer                  N       No     1.0  \n",
              "4                   NaN      Mass Customer                  N      Yes     1.0  "
            ]
          },
          "metadata": {
            "tags": []
          },
          "execution_count": 7
        }
      ]
    },
    {
      "cell_type": "markdown",
      "metadata": {
        "id": "cNSFuQt84iVu"
      },
      "source": [
        "## Address data"
      ]
    },
    {
      "cell_type": "code",
      "metadata": {
        "colab": {
          "base_uri": "https://localhost:8080/",
          "height": 204
        },
        "id": "A5O-gSc_3-Vw",
        "outputId": "c01a20e6-fb5c-4858-9b1a-045905a826fa"
      },
      "source": [
        "add_df = pd.read_excel('/content/drive/MyDrive/Colab Notebooks/Raw data.xlsx', sheet_name='CustomerAddress')\n",
        "add_df.head()"
      ],
      "execution_count": 8,
      "outputs": [
        {
          "output_type": "execute_result",
          "data": {
            "text/html": [
              "<div>\n",
              "<style scoped>\n",
              "    .dataframe tbody tr th:only-of-type {\n",
              "        vertical-align: middle;\n",
              "    }\n",
              "\n",
              "    .dataframe tbody tr th {\n",
              "        vertical-align: top;\n",
              "    }\n",
              "\n",
              "    .dataframe thead th {\n",
              "        text-align: right;\n",
              "    }\n",
              "</style>\n",
              "<table border=\"1\" class=\"dataframe\">\n",
              "  <thead>\n",
              "    <tr style=\"text-align: right;\">\n",
              "      <th></th>\n",
              "      <th>customer_id</th>\n",
              "      <th>address</th>\n",
              "      <th>postcode</th>\n",
              "      <th>state</th>\n",
              "      <th>country</th>\n",
              "      <th>property_valuation</th>\n",
              "    </tr>\n",
              "  </thead>\n",
              "  <tbody>\n",
              "    <tr>\n",
              "      <th>0</th>\n",
              "      <td>1</td>\n",
              "      <td>060 Morning Avenue</td>\n",
              "      <td>2016</td>\n",
              "      <td>New South Wales</td>\n",
              "      <td>Australia</td>\n",
              "      <td>10</td>\n",
              "    </tr>\n",
              "    <tr>\n",
              "      <th>1</th>\n",
              "      <td>2</td>\n",
              "      <td>6 Meadow Vale Court</td>\n",
              "      <td>2153</td>\n",
              "      <td>New South Wales</td>\n",
              "      <td>Australia</td>\n",
              "      <td>10</td>\n",
              "    </tr>\n",
              "    <tr>\n",
              "      <th>2</th>\n",
              "      <td>4</td>\n",
              "      <td>0 Holy Cross Court</td>\n",
              "      <td>4211</td>\n",
              "      <td>QLD</td>\n",
              "      <td>Australia</td>\n",
              "      <td>9</td>\n",
              "    </tr>\n",
              "    <tr>\n",
              "      <th>3</th>\n",
              "      <td>5</td>\n",
              "      <td>17979 Del Mar Point</td>\n",
              "      <td>2448</td>\n",
              "      <td>New South Wales</td>\n",
              "      <td>Australia</td>\n",
              "      <td>4</td>\n",
              "    </tr>\n",
              "    <tr>\n",
              "      <th>4</th>\n",
              "      <td>6</td>\n",
              "      <td>9 Oakridge Court</td>\n",
              "      <td>3216</td>\n",
              "      <td>VIC</td>\n",
              "      <td>Australia</td>\n",
              "      <td>9</td>\n",
              "    </tr>\n",
              "  </tbody>\n",
              "</table>\n",
              "</div>"
            ],
            "text/plain": [
              "   customer_id              address  postcode            state    country  \\\n",
              "0            1   060 Morning Avenue      2016  New South Wales  Australia   \n",
              "1            2  6 Meadow Vale Court      2153  New South Wales  Australia   \n",
              "2            4   0 Holy Cross Court      4211              QLD  Australia   \n",
              "3            5  17979 Del Mar Point      2448  New South Wales  Australia   \n",
              "4            6     9 Oakridge Court      3216              VIC  Australia   \n",
              "\n",
              "   property_valuation  \n",
              "0                  10  \n",
              "1                  10  \n",
              "2                   9  \n",
              "3                   4  \n",
              "4                   9  "
            ]
          },
          "metadata": {
            "tags": []
          },
          "execution_count": 8
        }
      ]
    },
    {
      "cell_type": "markdown",
      "metadata": {
        "id": "-lma_L4G4wDd"
      },
      "source": [
        "## New Customer data"
      ]
    },
    {
      "cell_type": "code",
      "metadata": {
        "colab": {
          "base_uri": "https://localhost:8080/",
          "height": 394
        },
        "id": "N82pwuUA4M9z",
        "outputId": "2575c2ac-bd9d-4a82-b035-28f1b4bb4308"
      },
      "source": [
        "new_cust_df = pd.read_excel('/content/drive/MyDrive/Colab Notebooks/Raw data.xlsx', sheet_name='NewCustomerList')\n",
        "new_cust_df.head()\n"
      ],
      "execution_count": 9,
      "outputs": [
        {
          "output_type": "execute_result",
          "data": {
            "text/html": [
              "<div>\n",
              "<style scoped>\n",
              "    .dataframe tbody tr th:only-of-type {\n",
              "        vertical-align: middle;\n",
              "    }\n",
              "\n",
              "    .dataframe tbody tr th {\n",
              "        vertical-align: top;\n",
              "    }\n",
              "\n",
              "    .dataframe thead th {\n",
              "        text-align: right;\n",
              "    }\n",
              "</style>\n",
              "<table border=\"1\" class=\"dataframe\">\n",
              "  <thead>\n",
              "    <tr style=\"text-align: right;\">\n",
              "      <th></th>\n",
              "      <th>first_name</th>\n",
              "      <th>last_name</th>\n",
              "      <th>gender</th>\n",
              "      <th>past_3_years_bike_related_purchases</th>\n",
              "      <th>DOB</th>\n",
              "      <th>job_title</th>\n",
              "      <th>job_industry_category</th>\n",
              "      <th>wealth_segment</th>\n",
              "      <th>deceased_indicator</th>\n",
              "      <th>owns_car</th>\n",
              "      <th>tenure</th>\n",
              "      <th>address</th>\n",
              "      <th>postcode</th>\n",
              "      <th>state</th>\n",
              "      <th>country</th>\n",
              "      <th>property_valuation</th>\n",
              "      <th>Unnamed: 16</th>\n",
              "      <th>Unnamed: 17</th>\n",
              "      <th>Unnamed: 18</th>\n",
              "      <th>Unnamed: 19</th>\n",
              "      <th>Unnamed: 20</th>\n",
              "      <th>Rank</th>\n",
              "      <th>Value</th>\n",
              "    </tr>\n",
              "  </thead>\n",
              "  <tbody>\n",
              "    <tr>\n",
              "      <th>0</th>\n",
              "      <td>Chickie</td>\n",
              "      <td>Brister</td>\n",
              "      <td>Male</td>\n",
              "      <td>86</td>\n",
              "      <td>1957-07-12</td>\n",
              "      <td>General Manager</td>\n",
              "      <td>Manufacturing</td>\n",
              "      <td>Mass Customer</td>\n",
              "      <td>N</td>\n",
              "      <td>Yes</td>\n",
              "      <td>14</td>\n",
              "      <td>45 Shopko Center</td>\n",
              "      <td>4500</td>\n",
              "      <td>QLD</td>\n",
              "      <td>Australia</td>\n",
              "      <td>6</td>\n",
              "      <td>0.61</td>\n",
              "      <td>0.7625</td>\n",
              "      <td>0.953125</td>\n",
              "      <td>0.810156</td>\n",
              "      <td>1</td>\n",
              "      <td>1</td>\n",
              "      <td>1.718750</td>\n",
              "    </tr>\n",
              "    <tr>\n",
              "      <th>1</th>\n",
              "      <td>Morly</td>\n",
              "      <td>Genery</td>\n",
              "      <td>Male</td>\n",
              "      <td>69</td>\n",
              "      <td>1970-03-22</td>\n",
              "      <td>Structural Engineer</td>\n",
              "      <td>Property</td>\n",
              "      <td>Mass Customer</td>\n",
              "      <td>N</td>\n",
              "      <td>No</td>\n",
              "      <td>16</td>\n",
              "      <td>14 Mccormick Park</td>\n",
              "      <td>2113</td>\n",
              "      <td>NSW</td>\n",
              "      <td>Australia</td>\n",
              "      <td>11</td>\n",
              "      <td>0.89</td>\n",
              "      <td>0.8900</td>\n",
              "      <td>1.112500</td>\n",
              "      <td>0.945625</td>\n",
              "      <td>1</td>\n",
              "      <td>1</td>\n",
              "      <td>1.718750</td>\n",
              "    </tr>\n",
              "    <tr>\n",
              "      <th>2</th>\n",
              "      <td>Ardelis</td>\n",
              "      <td>Forrester</td>\n",
              "      <td>Female</td>\n",
              "      <td>10</td>\n",
              "      <td>1974-08-28</td>\n",
              "      <td>Senior Cost Accountant</td>\n",
              "      <td>Financial Services</td>\n",
              "      <td>Affluent Customer</td>\n",
              "      <td>N</td>\n",
              "      <td>No</td>\n",
              "      <td>10</td>\n",
              "      <td>5 Colorado Crossing</td>\n",
              "      <td>3505</td>\n",
              "      <td>VIC</td>\n",
              "      <td>Australia</td>\n",
              "      <td>5</td>\n",
              "      <td>0.84</td>\n",
              "      <td>0.8400</td>\n",
              "      <td>0.840000</td>\n",
              "      <td>0.840000</td>\n",
              "      <td>1</td>\n",
              "      <td>1</td>\n",
              "      <td>1.718750</td>\n",
              "    </tr>\n",
              "    <tr>\n",
              "      <th>3</th>\n",
              "      <td>Lucine</td>\n",
              "      <td>Stutt</td>\n",
              "      <td>Female</td>\n",
              "      <td>64</td>\n",
              "      <td>1979-01-28</td>\n",
              "      <td>Account Representative III</td>\n",
              "      <td>Manufacturing</td>\n",
              "      <td>Affluent Customer</td>\n",
              "      <td>N</td>\n",
              "      <td>Yes</td>\n",
              "      <td>5</td>\n",
              "      <td>207 Annamark Plaza</td>\n",
              "      <td>4814</td>\n",
              "      <td>QLD</td>\n",
              "      <td>Australia</td>\n",
              "      <td>1</td>\n",
              "      <td>0.82</td>\n",
              "      <td>1.0250</td>\n",
              "      <td>1.025000</td>\n",
              "      <td>1.025000</td>\n",
              "      <td>4</td>\n",
              "      <td>4</td>\n",
              "      <td>1.703125</td>\n",
              "    </tr>\n",
              "    <tr>\n",
              "      <th>4</th>\n",
              "      <td>Melinda</td>\n",
              "      <td>Hadlee</td>\n",
              "      <td>Female</td>\n",
              "      <td>34</td>\n",
              "      <td>1965-09-21</td>\n",
              "      <td>Financial Analyst</td>\n",
              "      <td>Financial Services</td>\n",
              "      <td>Affluent Customer</td>\n",
              "      <td>N</td>\n",
              "      <td>No</td>\n",
              "      <td>19</td>\n",
              "      <td>115 Montana Place</td>\n",
              "      <td>2093</td>\n",
              "      <td>NSW</td>\n",
              "      <td>Australia</td>\n",
              "      <td>9</td>\n",
              "      <td>0.92</td>\n",
              "      <td>0.9200</td>\n",
              "      <td>1.150000</td>\n",
              "      <td>1.150000</td>\n",
              "      <td>4</td>\n",
              "      <td>4</td>\n",
              "      <td>1.703125</td>\n",
              "    </tr>\n",
              "  </tbody>\n",
              "</table>\n",
              "</div>"
            ],
            "text/plain": [
              "  first_name  last_name  gender  past_3_years_bike_related_purchases  \\\n",
              "0    Chickie    Brister    Male                                   86   \n",
              "1      Morly     Genery    Male                                   69   \n",
              "2    Ardelis  Forrester  Female                                   10   \n",
              "3     Lucine      Stutt  Female                                   64   \n",
              "4    Melinda     Hadlee  Female                                   34   \n",
              "\n",
              "         DOB                   job_title job_industry_category  \\\n",
              "0 1957-07-12             General Manager         Manufacturing   \n",
              "1 1970-03-22         Structural Engineer              Property   \n",
              "2 1974-08-28      Senior Cost Accountant    Financial Services   \n",
              "3 1979-01-28  Account Representative III         Manufacturing   \n",
              "4 1965-09-21           Financial Analyst    Financial Services   \n",
              "\n",
              "      wealth_segment deceased_indicator owns_car  tenure              address  \\\n",
              "0      Mass Customer                  N      Yes      14     45 Shopko Center   \n",
              "1      Mass Customer                  N       No      16    14 Mccormick Park   \n",
              "2  Affluent Customer                  N       No      10  5 Colorado Crossing   \n",
              "3  Affluent Customer                  N      Yes       5   207 Annamark Plaza   \n",
              "4  Affluent Customer                  N       No      19    115 Montana Place   \n",
              "\n",
              "   postcode state    country  property_valuation  Unnamed: 16  Unnamed: 17  \\\n",
              "0      4500   QLD  Australia                   6         0.61       0.7625   \n",
              "1      2113   NSW  Australia                  11         0.89       0.8900   \n",
              "2      3505   VIC  Australia                   5         0.84       0.8400   \n",
              "3      4814   QLD  Australia                   1         0.82       1.0250   \n",
              "4      2093   NSW  Australia                   9         0.92       0.9200   \n",
              "\n",
              "   Unnamed: 18  Unnamed: 19  Unnamed: 20  Rank     Value  \n",
              "0     0.953125     0.810156            1     1  1.718750  \n",
              "1     1.112500     0.945625            1     1  1.718750  \n",
              "2     0.840000     0.840000            1     1  1.718750  \n",
              "3     1.025000     1.025000            4     4  1.703125  \n",
              "4     1.150000     1.150000            4     4  1.703125  "
            ]
          },
          "metadata": {
            "tags": []
          },
          "execution_count": 9
        }
      ]
    },
    {
      "cell_type": "markdown",
      "metadata": {
        "id": "Pqk-y1Mf5YIQ"
      },
      "source": [
        "# Data Exploration"
      ]
    },
    {
      "cell_type": "code",
      "metadata": {
        "colab": {
          "base_uri": "https://localhost:8080/"
        },
        "id": "pWR774jb42nh",
        "outputId": "305831c9-c181-437b-d580-9e55f795b476"
      },
      "source": [
        "print(\"Unique Customers in transaction data: \",transaction_df.customer_id.nunique())\n",
        "print('Number of transactions:', transaction_df['transaction_id'].nunique())\n",
        "print('Number of products bought:', transaction_df['product_id'].nunique())\n",
        "print('Number of customers:', transaction_df['customer_id'].nunique())\n",
        "print('Number of brands bought:', transaction_df['brand'].nunique())\n",
        "print('Number of product line:', transaction_df['product_line'].nunique())\n",
        "print('Number of product class:', transaction_df['product_class'].nunique())"
      ],
      "execution_count": 10,
      "outputs": [
        {
          "output_type": "stream",
          "text": [
            "Unique Customers in transaction data:  3494\n",
            "Number of transactions: 20000\n",
            "Number of products bought: 101\n",
            "Number of customers: 3494\n",
            "Number of brands bought: 6\n",
            "Number of product line: 4\n",
            "Number of product class: 3\n"
          ],
          "name": "stdout"
        }
      ]
    },
    {
      "cell_type": "code",
      "metadata": {
        "colab": {
          "base_uri": "https://localhost:8080/"
        },
        "id": "7Yd93X3b5tCO",
        "outputId": "31400813-c77a-4513-976a-8a142ed7a4c8"
      },
      "source": [
        "#Unique values in categorical columns\n",
        "for col in ['online_order', 'order_status', 'brand', 'product_line', 'product_class', 'product_size']:\n",
        "    print(col,\": \",transaction_df[col].unique())"
      ],
      "execution_count": 11,
      "outputs": [
        {
          "output_type": "stream",
          "text": [
            "online_order :  [ 0.  1. nan]\n",
            "order_status :  ['Approved' 'Cancelled']\n",
            "brand :  ['Solex' 'Trek Bicycles' 'OHM Cycles' 'Norco Bicycles' 'Giant Bicycles'\n",
            " 'WeareA2B' nan]\n",
            "product_line :  ['Standard' 'Road' 'Mountain' 'Touring' nan]\n",
            "product_class :  ['medium' 'low' 'high' nan]\n",
            "product_size :  ['medium' 'large' 'small' nan]\n"
          ],
          "name": "stdout"
        }
      ]
    },
    {
      "cell_type": "code",
      "metadata": {
        "colab": {
          "base_uri": "https://localhost:8080/"
        },
        "id": "b0dj76bL5w7E",
        "outputId": "3670e8d4-c834-4bee-898c-aa106fc68832"
      },
      "source": [
        "#Checking nulls\n",
        "transaction_df.isnull().sum()"
      ],
      "execution_count": 12,
      "outputs": [
        {
          "output_type": "execute_result",
          "data": {
            "text/plain": [
              "transaction_id               0\n",
              "product_id                   0\n",
              "customer_id                  0\n",
              "transaction_date             0\n",
              "online_order               360\n",
              "order_status                 0\n",
              "brand                      197\n",
              "product_line               197\n",
              "product_class              197\n",
              "product_size               197\n",
              "list_price                   0\n",
              "standard_cost              197\n",
              "product_first_sold_date    197\n",
              "dtype: int64"
            ]
          },
          "metadata": {
            "tags": []
          },
          "execution_count": 12
        }
      ]
    },
    {
      "cell_type": "code",
      "metadata": {
        "colab": {
          "base_uri": "https://localhost:8080/"
        },
        "id": "iuH7qfwR56A8",
        "outputId": "47ac9e62-f01b-4b11-cbcc-1b9949b172ec"
      },
      "source": [
        "#Removing transactions with no standard cost\n",
        "transaction_df = transaction_df[~(transaction_df['standard_cost'].isna())]\n",
        "transaction_df.customer_id.nunique()"
      ],
      "execution_count": 13,
      "outputs": [
        {
          "output_type": "execute_result",
          "data": {
            "text/plain": [
              "3494"
            ]
          },
          "metadata": {
            "tags": []
          },
          "execution_count": 13
        }
      ]
    },
    {
      "cell_type": "code",
      "metadata": {
        "id": "cUX4Gvaw6Huw"
      },
      "source": [
        "#Calculating profit\n",
        "transaction_df['profit'] = transaction_df['list_price'] - transaction_df['standard_cost']"
      ],
      "execution_count": 14,
      "outputs": []
    },
    {
      "cell_type": "code",
      "metadata": {
        "colab": {
          "base_uri": "https://localhost:8080/"
        },
        "id": "LALVFD2q6QCA",
        "outputId": "8f1f4658-bebb-428d-bfec-5cfcbba7b668"
      },
      "source": [
        "transaction_df.groupby('order_status')['customer_id'].count()"
      ],
      "execution_count": 15,
      "outputs": [
        {
          "output_type": "execute_result",
          "data": {
            "text/plain": [
              "order_status\n",
              "Approved     19625\n",
              "Cancelled      178\n",
              "Name: customer_id, dtype: int64"
            ]
          },
          "metadata": {
            "tags": []
          },
          "execution_count": 15
        }
      ]
    },
    {
      "cell_type": "code",
      "metadata": {
        "id": "LT6ClVqj6WuP"
      },
      "source": [
        "#Set profit = 0 when order was cancelled\n",
        "transaction_df['profit'] = np.where(transaction_df['order_status'] == 'Cancelled', 0, transaction_df['profit'])"
      ],
      "execution_count": 16,
      "outputs": []
    },
    {
      "cell_type": "code",
      "metadata": {
        "colab": {
          "base_uri": "https://localhost:8080/",
          "height": 297
        },
        "id": "LHyWJqMP6d2v",
        "outputId": "dc4ac04b-7720-4e22-e146-e67b298da8f6"
      },
      "source": [
        "transaction_df.describe()"
      ],
      "execution_count": 17,
      "outputs": [
        {
          "output_type": "execute_result",
          "data": {
            "text/html": [
              "<div>\n",
              "<style scoped>\n",
              "    .dataframe tbody tr th:only-of-type {\n",
              "        vertical-align: middle;\n",
              "    }\n",
              "\n",
              "    .dataframe tbody tr th {\n",
              "        vertical-align: top;\n",
              "    }\n",
              "\n",
              "    .dataframe thead th {\n",
              "        text-align: right;\n",
              "    }\n",
              "</style>\n",
              "<table border=\"1\" class=\"dataframe\">\n",
              "  <thead>\n",
              "    <tr style=\"text-align: right;\">\n",
              "      <th></th>\n",
              "      <th>transaction_id</th>\n",
              "      <th>product_id</th>\n",
              "      <th>customer_id</th>\n",
              "      <th>online_order</th>\n",
              "      <th>list_price</th>\n",
              "      <th>standard_cost</th>\n",
              "      <th>profit</th>\n",
              "    </tr>\n",
              "  </thead>\n",
              "  <tbody>\n",
              "    <tr>\n",
              "      <th>count</th>\n",
              "      <td>19803.000000</td>\n",
              "      <td>19803.000000</td>\n",
              "      <td>19803.000000</td>\n",
              "      <td>19445.000000</td>\n",
              "      <td>19803.000000</td>\n",
              "      <td>19803.000000</td>\n",
              "      <td>19803.000000</td>\n",
              "    </tr>\n",
              "    <tr>\n",
              "      <th>mean</th>\n",
              "      <td>9993.979650</td>\n",
              "      <td>45.815937</td>\n",
              "      <td>1739.294955</td>\n",
              "      <td>0.500849</td>\n",
              "      <td>1107.997866</td>\n",
              "      <td>556.046951</td>\n",
              "      <td>546.962785</td>\n",
              "    </tr>\n",
              "    <tr>\n",
              "      <th>std</th>\n",
              "      <td>5776.499961</td>\n",
              "      <td>30.569841</td>\n",
              "      <td>1011.946353</td>\n",
              "      <td>0.500012</td>\n",
              "      <td>582.770460</td>\n",
              "      <td>405.955660</td>\n",
              "      <td>494.033915</td>\n",
              "    </tr>\n",
              "    <tr>\n",
              "      <th>min</th>\n",
              "      <td>1.000000</td>\n",
              "      <td>0.000000</td>\n",
              "      <td>1.000000</td>\n",
              "      <td>0.000000</td>\n",
              "      <td>12.010000</td>\n",
              "      <td>7.210000</td>\n",
              "      <td>0.000000</td>\n",
              "    </tr>\n",
              "    <tr>\n",
              "      <th>25%</th>\n",
              "      <td>4988.500000</td>\n",
              "      <td>18.000000</td>\n",
              "      <td>858.000000</td>\n",
              "      <td>0.000000</td>\n",
              "      <td>575.270000</td>\n",
              "      <td>215.140000</td>\n",
              "      <td>133.780000</td>\n",
              "    </tr>\n",
              "    <tr>\n",
              "      <th>50%</th>\n",
              "      <td>9995.000000</td>\n",
              "      <td>45.000000</td>\n",
              "      <td>1738.000000</td>\n",
              "      <td>1.000000</td>\n",
              "      <td>1163.890000</td>\n",
              "      <td>507.580000</td>\n",
              "      <td>445.210000</td>\n",
              "    </tr>\n",
              "    <tr>\n",
              "      <th>75%</th>\n",
              "      <td>15000.500000</td>\n",
              "      <td>72.000000</td>\n",
              "      <td>2615.000000</td>\n",
              "      <td>1.000000</td>\n",
              "      <td>1635.300000</td>\n",
              "      <td>795.100000</td>\n",
              "      <td>827.160000</td>\n",
              "    </tr>\n",
              "    <tr>\n",
              "      <th>max</th>\n",
              "      <td>20000.000000</td>\n",
              "      <td>100.000000</td>\n",
              "      <td>5034.000000</td>\n",
              "      <td>1.000000</td>\n",
              "      <td>2091.470000</td>\n",
              "      <td>1759.850000</td>\n",
              "      <td>1702.550000</td>\n",
              "    </tr>\n",
              "  </tbody>\n",
              "</table>\n",
              "</div>"
            ],
            "text/plain": [
              "       transaction_id    product_id   customer_id  online_order    list_price  \\\n",
              "count    19803.000000  19803.000000  19803.000000  19445.000000  19803.000000   \n",
              "mean      9993.979650     45.815937   1739.294955      0.500849   1107.997866   \n",
              "std       5776.499961     30.569841   1011.946353      0.500012    582.770460   \n",
              "min          1.000000      0.000000      1.000000      0.000000     12.010000   \n",
              "25%       4988.500000     18.000000    858.000000      0.000000    575.270000   \n",
              "50%       9995.000000     45.000000   1738.000000      1.000000   1163.890000   \n",
              "75%      15000.500000     72.000000   2615.000000      1.000000   1635.300000   \n",
              "max      20000.000000    100.000000   5034.000000      1.000000   2091.470000   \n",
              "\n",
              "       standard_cost        profit  \n",
              "count   19803.000000  19803.000000  \n",
              "mean      556.046951    546.962785  \n",
              "std       405.955660    494.033915  \n",
              "min         7.210000      0.000000  \n",
              "25%       215.140000    133.780000  \n",
              "50%       507.580000    445.210000  \n",
              "75%       795.100000    827.160000  \n",
              "max      1759.850000   1702.550000  "
            ]
          },
          "metadata": {
            "tags": []
          },
          "execution_count": 17
        }
      ]
    },
    {
      "cell_type": "code",
      "metadata": {
        "colab": {
          "base_uri": "https://localhost:8080/",
          "height": 353
        },
        "id": "7DMMrXKl7AVz",
        "outputId": "61b5dd40-bbfc-4347-952d-d2c01070964c"
      },
      "source": [
        "sns.distplot(transaction_df['list_price'])"
      ],
      "execution_count": 18,
      "outputs": [
        {
          "output_type": "stream",
          "text": [
            "/usr/local/lib/python3.7/dist-packages/seaborn/distributions.py:2557: FutureWarning: `distplot` is a deprecated function and will be removed in a future version. Please adapt your code to use either `displot` (a figure-level function with similar flexibility) or `histplot` (an axes-level function for histograms).\n",
            "  warnings.warn(msg, FutureWarning)\n"
          ],
          "name": "stderr"
        },
        {
          "output_type": "execute_result",
          "data": {
            "text/plain": [
              "<matplotlib.axes._subplots.AxesSubplot at 0x7fed58c92b10>"
            ]
          },
          "metadata": {
            "tags": []
          },
          "execution_count": 18
        },
        {
          "output_type": "display_data",
          "data": {
            "image/png": "[encoded data removed]",
            "text/plain": [
              "<Figure size 432x288 with 1 Axes>"
            ]
          },
          "metadata": {
            "tags": []
          }
        }
      ]
    },
    {
      "cell_type": "code",
      "metadata": {
        "colab": {
          "base_uri": "https://localhost:8080/",
          "height": 353
        },
        "id": "K3dwKiuj7PnJ",
        "outputId": "28efc43d-42b2-4c58-8099-2d4d7d76122a"
      },
      "source": [
        "sns.distplot(transaction_df['standard_cost'])"
      ],
      "execution_count": 19,
      "outputs": [
        {
          "output_type": "stream",
          "text": [
            "/usr/local/lib/python3.7/dist-packages/seaborn/distributions.py:2557: FutureWarning: `distplot` is a deprecated function and will be removed in a future version. Please adapt your code to use either `displot` (a figure-level function with similar flexibility) or `histplot` (an axes-level function for histograms).\n",
            "  warnings.warn(msg, FutureWarning)\n"
          ],
          "name": "stderr"
        },
        {
          "output_type": "execute_result",
          "data": {
            "text/plain": [
              "<matplotlib.axes._subplots.AxesSubplot at 0x7fed59230f10>"
            ]
          },
          "metadata": {
            "tags": []
          },
          "execution_count": 19
        },
        {
          "output_type": "display_data",
          "data": {
            "image/png": "[encoded data removed]",
            "text/plain": [
              "<Figure size 432x288 with 1 Axes>"
            ]
          },
          "metadata": {
            "tags": []
          }
        }
      ]
    },
    {
      "cell_type": "code",
      "metadata": {
        "colab": {
          "base_uri": "https://localhost:8080/",
          "height": 353
        },
        "id": "5CNxzmgB7YRL",
        "outputId": "3abe41e0-8878-43e4-dae0-3cae688b2a79"
      },
      "source": [
        "sns.distplot(transaction_df['profit'])"
      ],
      "execution_count": 20,
      "outputs": [
        {
          "output_type": "stream",
          "text": [
            "/usr/local/lib/python3.7/dist-packages/seaborn/distributions.py:2557: FutureWarning: `distplot` is a deprecated function and will be removed in a future version. Please adapt your code to use either `displot` (a figure-level function with similar flexibility) or `histplot` (an axes-level function for histograms).\n",
            "  warnings.warn(msg, FutureWarning)\n"
          ],
          "name": "stderr"
        },
        {
          "output_type": "execute_result",
          "data": {
            "text/plain": [
              "<matplotlib.axes._subplots.AxesSubplot at 0x7fed58c716d0>"
            ]
          },
          "metadata": {
            "tags": []
          },
          "execution_count": 20
        },
        {
          "output_type": "display_data",
          "data": {
            "image/png": "[encoded data removed]",
            "text/plain": [
              "<Figure size 432x288 with 1 Axes>"
            ]
          },
          "metadata": {
            "tags": []
          }
        }
      ]
    },
    {
      "cell_type": "code",
      "metadata": {
        "colab": {
          "base_uri": "https://localhost:8080/"
        },
        "id": "EnQPfzs37cxQ",
        "outputId": "bd1a33b8-5c11-41d5-87ea-5cfed594a9a7"
      },
      "source": [
        "#skewness and kurtosis\n",
        "print(\"Skewness: %f\" % transaction_df['list_price'].skew())\n",
        "print(\"Kurtosis: %f\" % transaction_df['list_price'].kurt())"
      ],
      "execution_count": 21,
      "outputs": [
        {
          "output_type": "stream",
          "text": [
            "Skewness: -0.126527\n",
            "Kurtosis: -1.082968\n"
          ],
          "name": "stdout"
        }
      ]
    },
    {
      "cell_type": "markdown",
      "metadata": {
        "id": "QG-ZRX-Y8udv"
      },
      "source": [
        "The low skewness proves the data is symmetric and low kurtosis proves less outliers (light tailed) "
      ]
    },
    {
      "cell_type": "code",
      "metadata": {
        "id": "lLSy0Yq47xls"
      },
      "source": [
        "customer_df = pd.merge(demog_df, add_df, on='customer_id', how='left')"
      ],
      "execution_count": 22,
      "outputs": []
    },
    {
      "cell_type": "code",
      "metadata": {
        "id": "uIEfT8Zo9EWx"
      },
      "source": [
        "#Calculating Age\n",
        "customer_df['age'] = (dt.datetime.now() - customer_df['DOB']).astype('<m8[Y]')"
      ],
      "execution_count": 23,
      "outputs": []
    },
    {
      "cell_type": "code",
      "metadata": {
        "colab": {
          "base_uri": "https://localhost:8080/"
        },
        "id": "3hw1qqtk9HuW",
        "outputId": "1ecd6364-9f44-4d62-ff13-44b9f52b775c"
      },
      "source": [
        "#Cleaning Gender\n",
        "customer_df.groupby(['gender'])['customer_id'].count()\n",
        "customer_df['gender'] = np.where(customer_df['gender'].isin(['M', 'Male']), 'Male', \n",
        "                                np.where(customer_df['gender'].isin(['F', 'Female', 'Femal']), 'Female','Unknown'))\n",
        "customer_df['gender'].unique()"
      ],
      "execution_count": 24,
      "outputs": [
        {
          "output_type": "execute_result",
          "data": {
            "text/plain": [
              "array(['Unknown', 'Male', 'Female'], dtype=object)"
            ]
          },
          "metadata": {
            "tags": []
          },
          "execution_count": 24
        }
      ]
    },
    {
      "cell_type": "code",
      "metadata": {
        "colab": {
          "base_uri": "https://localhost:8080/"
        },
        "id": "t-t-4kD89KBT",
        "outputId": "6527bb3f-abc5-4587-ec97-95d50f55a1c9"
      },
      "source": [
        "#Cleaning State\n",
        "customer_df.groupby(['state'])['customer_id'].count()\n",
        "customer_df['state'] = np.where(customer_df['state'].isin(['NSW', 'New South Wales']), 'NSW', \n",
        "                                np.where(customer_df['state'].isin(['VIC', 'Victoria']), 'VIC','QLD'))\n",
        "customer_df['state'].unique()"
      ],
      "execution_count": 25,
      "outputs": [
        {
          "output_type": "execute_result",
          "data": {
            "text/plain": [
              "array(['QLD', 'NSW', 'VIC'], dtype=object)"
            ]
          },
          "metadata": {
            "tags": []
          },
          "execution_count": 25
        }
      ]
    },
    {
      "cell_type": "code",
      "metadata": {
        "id": "-hXzh3gc9Lxh"
      },
      "source": [
        "#Adding Profit and Purchase amount\n",
        "profit_df = transaction_df.groupby(['customer_id'], as_index=False).agg({'profit':'sum', 'list_price':'sum'})\n",
        "\n",
        "customer_df = pd.merge(customer_df, profit_df, on='customer_id')"
      ],
      "execution_count": 26,
      "outputs": []
    },
    {
      "cell_type": "code",
      "metadata": {
        "colab": {
          "base_uri": "https://localhost:8080/",
          "height": 400
        },
        "id": "M9irw97-9bhu",
        "outputId": "2cc8dfd3-17ce-45e5-f2c0-4eedf7b3283a"
      },
      "source": [
        "#Calculating Correlations\n",
        "corr = customer_df.corr()\n",
        "ax = sns.heatmap(\n",
        "    corr, \n",
        "    vmin=-1, vmax=1, center=0,\n",
        "    cmap=sns.diverging_palette(20, 220, n=200),\n",
        "    square=True\n",
        ")\n",
        "ax.set_xticklabels(\n",
        "    ax.get_xticklabels(),\n",
        "    rotation=45,\n",
        "    horizontalalignment='right'\n",
        ");"
      ],
      "execution_count": 27,
      "outputs": [
        {
          "output_type": "display_data",
          "data": {
            "image/png": "[encoded data removed]",
            "text/plain": [
              "<Figure size 432x288 with 2 Axes>"
            ]
          },
          "metadata": {
            "tags": []
          }
        }
      ]
    },
    {
      "cell_type": "code",
      "metadata": {
        "colab": {
          "base_uri": "https://localhost:8080/",
          "height": 303
        },
        "id": "olT0KPC99fJx",
        "outputId": "30ab9928-70ca-4117-93a9-db480439d2c6"
      },
      "source": [
        "var = 'age'\n",
        "data = pd.concat([customer_df['list_price'], customer_df[var]], axis=1)\n",
        "data.plot.scatter(x=var, y='list_price')"
      ],
      "execution_count": 28,
      "outputs": [
        {
          "output_type": "execute_result",
          "data": {
            "text/plain": [
              "<matplotlib.axes._subplots.AxesSubplot at 0x7fed4ea9efd0>"
            ]
          },
          "metadata": {
            "tags": []
          },
          "execution_count": 28
        },
        {
          "output_type": "display_data",
          "data": {
            "image/png": "[encoded data removed]",
            "text/plain": [
              "<Figure size 432x288 with 1 Axes>"
            ]
          },
          "metadata": {
            "tags": []
          }
        }
      ]
    },
    {
      "cell_type": "code",
      "metadata": {
        "colab": {
          "base_uri": "https://localhost:8080/",
          "height": 303
        },
        "id": "UIwGhtRn-EB8",
        "outputId": "935d3c28-9ab2-43af-af3c-ccb9035cab84"
      },
      "source": [
        "var = 'tenure'\n",
        "data = pd.concat([customer_df['list_price'], customer_df[var]], axis=1)\n",
        "data.plot.scatter(x=var, y='list_price')"
      ],
      "execution_count": 29,
      "outputs": [
        {
          "output_type": "execute_result",
          "data": {
            "text/plain": [
              "<matplotlib.axes._subplots.AxesSubplot at 0x7fed580adf10>"
            ]
          },
          "metadata": {
            "tags": []
          },
          "execution_count": 29
        },
        {
          "output_type": "display_data",
          "data": {
            "image/png": "[encoded data removed]",
            "text/plain": [
              "<Figure size 432x288 with 1 Axes>"
            ]
          },
          "metadata": {
            "tags": []
          }
        }
      ]
    },
    {
      "cell_type": "code",
      "metadata": {
        "colab": {
          "base_uri": "https://localhost:8080/",
          "height": 303
        },
        "id": "uOzCMdTV-Shu",
        "outputId": "75d23ea9-65ab-4d04-fa18-9e0ae530fb87"
      },
      "source": [
        "var = 'past_3_years_bike_related_purchases'\n",
        "data = pd.concat([customer_df['list_price'], customer_df[var]], axis=1)\n",
        "data.plot.scatter(x=var, y='list_price')"
      ],
      "execution_count": 30,
      "outputs": [
        {
          "output_type": "execute_result",
          "data": {
            "text/plain": [
              "<matplotlib.axes._subplots.AxesSubplot at 0x7fed4e9fab50>"
            ]
          },
          "metadata": {
            "tags": []
          },
          "execution_count": 30
        },
        {
          "output_type": "display_data",
          "data": {
            "image/png": "[encoded data removed]",
            "text/plain": [
              "<Figure size 432x288 with 1 Axes>"
            ]
          },
          "metadata": {
            "tags": []
          }
        }
      ]
    },
    {
      "cell_type": "markdown",
      "metadata": {
        "id": "ddK1muEe-zca"
      },
      "source": [
        "The above distribution shows the list price is very uniformly distributed across various parameters.\n",
        "No pattern found between them"
      ]
    },
    {
      "cell_type": "markdown",
      "metadata": {
        "id": "zSZya-iq_Gq5"
      },
      "source": [
        "# RFM Analysis\n",
        "RFM (Recency, Frequency, Monetary) analysis is a customer segmentation technique that uses past purchase behaviour to dive customers into groups.\n",
        "\n",
        "\n",
        "Recency: Days since last purchase\n",
        "\n",
        "Frequency: Total number of purchases\n",
        "\n",
        "Monetary Value: Total money this customer spent"
      ]
    },
    {
      "cell_type": "code",
      "metadata": {
        "colab": {
          "base_uri": "https://localhost:8080/",
          "height": 204
        },
        "id": "isROAy_u-rCH",
        "outputId": "40d5adb9-f39c-48e5-f41a-7d7c5d17c2bb"
      },
      "source": [
        "#Recency of customer\n",
        "\n",
        "recency_df = transaction_df.groupby(['customer_id'], as_index=False)['transaction_date'].max()\n",
        "recency_df.columns = ['customer_id', 'Last_Purchase_date']\n",
        "recency_df.head()"
      ],
      "execution_count": 31,
      "outputs": [
        {
          "output_type": "execute_result",
          "data": {
            "text/html": [
              "<div>\n",
              "<style scoped>\n",
              "    .dataframe tbody tr th:only-of-type {\n",
              "        vertical-align: middle;\n",
              "    }\n",
              "\n",
              "    .dataframe tbody tr th {\n",
              "        vertical-align: top;\n",
              "    }\n",
              "\n",
              "    .dataframe thead th {\n",
              "        text-align: right;\n",
              "    }\n",
              "</style>\n",
              "<table border=\"1\" class=\"dataframe\">\n",
              "  <thead>\n",
              "    <tr style=\"text-align: right;\">\n",
              "      <th></th>\n",
              "      <th>customer_id</th>\n",
              "      <th>Last_Purchase_date</th>\n",
              "    </tr>\n",
              "  </thead>\n",
              "  <tbody>\n",
              "    <tr>\n",
              "      <th>0</th>\n",
              "      <td>1</td>\n",
              "      <td>2017-12-23</td>\n",
              "    </tr>\n",
              "    <tr>\n",
              "      <th>1</th>\n",
              "      <td>2</td>\n",
              "      <td>2017-08-24</td>\n",
              "    </tr>\n",
              "    <tr>\n",
              "      <th>2</th>\n",
              "      <td>3</td>\n",
              "      <td>2017-09-19</td>\n",
              "    </tr>\n",
              "    <tr>\n",
              "      <th>3</th>\n",
              "      <td>4</td>\n",
              "      <td>2017-06-18</td>\n",
              "    </tr>\n",
              "    <tr>\n",
              "      <th>4</th>\n",
              "      <td>5</td>\n",
              "      <td>2017-12-14</td>\n",
              "    </tr>\n",
              "  </tbody>\n",
              "</table>\n",
              "</div>"
            ],
            "text/plain": [
              "   customer_id Last_Purchase_date\n",
              "0            1         2017-12-23\n",
              "1            2         2017-08-24\n",
              "2            3         2017-09-19\n",
              "3            4         2017-06-18\n",
              "4            5         2017-12-14"
            ]
          },
          "metadata": {
            "tags": []
          },
          "execution_count": 31
        }
      ]
    },
    {
      "cell_type": "code",
      "metadata": {
        "colab": {
          "base_uri": "https://localhost:8080/",
          "height": 221
        },
        "id": "p1DQal1q_PTE",
        "outputId": "dcf22e99-74f7-4c87-dfce-3404bf55c9dd"
      },
      "source": [
        "print('Min date:', transaction_df['transaction_date'].min(), 'Max date:',transaction_df['transaction_date'].max())\n",
        "\n",
        "now = dt.date(2018, 1, 1)\n",
        "recency_df['Last_Purchase_date'] = pd.DatetimeIndex(recency_df.Last_Purchase_date).date\n",
        "recency_df['recency'] = recency_df.Last_Purchase_date.apply(lambda x: (now - x).days)\n",
        "recency_df.drop(columns={'Last_Purchase_date'}, inplace=True)\n",
        "recency_df.head()"
      ],
      "execution_count": 32,
      "outputs": [
        {
          "output_type": "stream",
          "text": [
            "Min date: 2017-01-01 00:00:00 Max date: 2017-12-30 00:00:00\n"
          ],
          "name": "stdout"
        },
        {
          "output_type": "execute_result",
          "data": {
            "text/html": [
              "<div>\n",
              "<style scoped>\n",
              "    .dataframe tbody tr th:only-of-type {\n",
              "        vertical-align: middle;\n",
              "    }\n",
              "\n",
              "    .dataframe tbody tr th {\n",
              "        vertical-align: top;\n",
              "    }\n",
              "\n",
              "    .dataframe thead th {\n",
              "        text-align: right;\n",
              "    }\n",
              "</style>\n",
              "<table border=\"1\" class=\"dataframe\">\n",
              "  <thead>\n",
              "    <tr style=\"text-align: right;\">\n",
              "      <th></th>\n",
              "      <th>customer_id</th>\n",
              "      <th>recency</th>\n",
              "    </tr>\n",
              "  </thead>\n",
              "  <tbody>\n",
              "    <tr>\n",
              "      <th>0</th>\n",
              "      <td>1</td>\n",
              "      <td>9</td>\n",
              "    </tr>\n",
              "    <tr>\n",
              "      <th>1</th>\n",
              "      <td>2</td>\n",
              "      <td>130</td>\n",
              "    </tr>\n",
              "    <tr>\n",
              "      <th>2</th>\n",
              "      <td>3</td>\n",
              "      <td>104</td>\n",
              "    </tr>\n",
              "    <tr>\n",
              "      <th>3</th>\n",
              "      <td>4</td>\n",
              "      <td>197</td>\n",
              "    </tr>\n",
              "    <tr>\n",
              "      <th>4</th>\n",
              "      <td>5</td>\n",
              "      <td>18</td>\n",
              "    </tr>\n",
              "  </tbody>\n",
              "</table>\n",
              "</div>"
            ],
            "text/plain": [
              "   customer_id  recency\n",
              "0            1        9\n",
              "1            2      130\n",
              "2            3      104\n",
              "3            4      197\n",
              "4            5       18"
            ]
          },
          "metadata": {
            "tags": []
          },
          "execution_count": 32
        }
      ]
    },
    {
      "cell_type": "code",
      "metadata": {
        "colab": {
          "base_uri": "https://localhost:8080/",
          "height": 204
        },
        "id": "i0Lfu_ef_SzV",
        "outputId": "77c49f6c-7a93-423a-c9a5-5d3d9e96f885"
      },
      "source": [
        "# Frequency calculation\n",
        "frequency_df = transaction_df.copy()\n",
        "frequency_df.drop_duplicates(subset=['customer_id', 'transaction_id'], keep='first', inplace=True)\n",
        "\n",
        "frequency_df = frequency_df.groupby(['customer_id'], as_index=False)['transaction_id'].count()\n",
        "frequency_df.columns = ['customer_id', 'frequency']\n",
        "frequency_df.head()"
      ],
      "execution_count": 33,
      "outputs": [
        {
          "output_type": "execute_result",
          "data": {
            "text/html": [
              "<div>\n",
              "<style scoped>\n",
              "    .dataframe tbody tr th:only-of-type {\n",
              "        vertical-align: middle;\n",
              "    }\n",
              "\n",
              "    .dataframe tbody tr th {\n",
              "        vertical-align: top;\n",
              "    }\n",
              "\n",
              "    .dataframe thead th {\n",
              "        text-align: right;\n",
              "    }\n",
              "</style>\n",
              "<table border=\"1\" class=\"dataframe\">\n",
              "  <thead>\n",
              "    <tr style=\"text-align: right;\">\n",
              "      <th></th>\n",
              "      <th>customer_id</th>\n",
              "      <th>frequency</th>\n",
              "    </tr>\n",
              "  </thead>\n",
              "  <tbody>\n",
              "    <tr>\n",
              "      <th>0</th>\n",
              "      <td>1</td>\n",
              "      <td>11</td>\n",
              "    </tr>\n",
              "    <tr>\n",
              "      <th>1</th>\n",
              "      <td>2</td>\n",
              "      <td>3</td>\n",
              "    </tr>\n",
              "    <tr>\n",
              "      <th>2</th>\n",
              "      <td>3</td>\n",
              "      <td>8</td>\n",
              "    </tr>\n",
              "    <tr>\n",
              "      <th>3</th>\n",
              "      <td>4</td>\n",
              "      <td>2</td>\n",
              "    </tr>\n",
              "    <tr>\n",
              "      <th>4</th>\n",
              "      <td>5</td>\n",
              "      <td>6</td>\n",
              "    </tr>\n",
              "  </tbody>\n",
              "</table>\n",
              "</div>"
            ],
            "text/plain": [
              "   customer_id  frequency\n",
              "0            1         11\n",
              "1            2          3\n",
              "2            3          8\n",
              "3            4          2\n",
              "4            5          6"
            ]
          },
          "metadata": {
            "tags": []
          },
          "execution_count": 33
        }
      ]
    },
    {
      "cell_type": "code",
      "metadata": {
        "colab": {
          "base_uri": "https://localhost:8080/",
          "height": 419
        },
        "id": "qYH6YPEq_U2X",
        "outputId": "f76a5493-1e32-4fd6-ac64-5713388d3ec2"
      },
      "source": [
        "#Monetary Value\n",
        "\n",
        "monetary_df = transaction_df.groupby(['customer_id'], as_index=False)['list_price'].sum()\n",
        "monetary_df.columns = ['customer_id', 'monetary']\n",
        "monetary_df.sort_values(by='monetary')"
      ],
      "execution_count": 34,
      "outputs": [
        {
          "output_type": "execute_result",
          "data": {
            "text/html": [
              "<div>\n",
              "<style scoped>\n",
              "    .dataframe tbody tr th:only-of-type {\n",
              "        vertical-align: middle;\n",
              "    }\n",
              "\n",
              "    .dataframe tbody tr th {\n",
              "        vertical-align: top;\n",
              "    }\n",
              "\n",
              "    .dataframe thead th {\n",
              "        text-align: right;\n",
              "    }\n",
              "</style>\n",
              "<table border=\"1\" class=\"dataframe\">\n",
              "  <thead>\n",
              "    <tr style=\"text-align: right;\">\n",
              "      <th></th>\n",
              "      <th>customer_id</th>\n",
              "      <th>monetary</th>\n",
              "    </tr>\n",
              "  </thead>\n",
              "  <tbody>\n",
              "    <tr>\n",
              "      <th>3284</th>\n",
              "      <td>3292</td>\n",
              "      <td>60.34</td>\n",
              "    </tr>\n",
              "    <tr>\n",
              "      <th>2527</th>\n",
              "      <td>2532</td>\n",
              "      <td>71.49</td>\n",
              "    </tr>\n",
              "    <tr>\n",
              "      <th>2269</th>\n",
              "      <td>2274</td>\n",
              "      <td>142.98</td>\n",
              "    </tr>\n",
              "    <tr>\n",
              "      <th>3183</th>\n",
              "      <td>3189</td>\n",
              "      <td>200.70</td>\n",
              "    </tr>\n",
              "    <tr>\n",
              "      <th>2418</th>\n",
              "      <td>2423</td>\n",
              "      <td>202.62</td>\n",
              "    </tr>\n",
              "    <tr>\n",
              "      <th>...</th>\n",
              "      <td>...</td>\n",
              "      <td>...</td>\n",
              "    </tr>\n",
              "    <tr>\n",
              "      <th>2782</th>\n",
              "      <td>2788</td>\n",
              "      <td>17258.94</td>\n",
              "    </tr>\n",
              "    <tr>\n",
              "      <th>938</th>\n",
              "      <td>941</td>\n",
              "      <td>17898.46</td>\n",
              "    </tr>\n",
              "    <tr>\n",
              "      <th>1593</th>\n",
              "      <td>1597</td>\n",
              "      <td>18052.68</td>\n",
              "    </tr>\n",
              "    <tr>\n",
              "      <th>1126</th>\n",
              "      <td>1129</td>\n",
              "      <td>18349.27</td>\n",
              "    </tr>\n",
              "    <tr>\n",
              "      <th>2178</th>\n",
              "      <td>2183</td>\n",
              "      <td>19071.32</td>\n",
              "    </tr>\n",
              "  </tbody>\n",
              "</table>\n",
              "<p>3494 rows × 2 columns</p>\n",
              "</div>"
            ],
            "text/plain": [
              "      customer_id  monetary\n",
              "3284         3292     60.34\n",
              "2527         2532     71.49\n",
              "2269         2274    142.98\n",
              "3183         3189    200.70\n",
              "2418         2423    202.62\n",
              "...           ...       ...\n",
              "2782         2788  17258.94\n",
              "938           941  17898.46\n",
              "1593         1597  18052.68\n",
              "1126         1129  18349.27\n",
              "2178         2183  19071.32\n",
              "\n",
              "[3494 rows x 2 columns]"
            ]
          },
          "metadata": {
            "tags": []
          },
          "execution_count": 34
        }
      ]
    },
    {
      "cell_type": "code",
      "metadata": {
        "colab": {
          "base_uri": "https://localhost:8080/",
          "height": 204
        },
        "id": "emeAEMBH_XQ-",
        "outputId": "bd2ed19f-d7eb-4980-ec4a-1ff39c712c3d"
      },
      "source": [
        "rf = pd.merge(recency_df, frequency_df, on='customer_id')\n",
        "rfm = pd.merge(rf, monetary_df, on='customer_id')\n",
        "rfm.head()"
      ],
      "execution_count": 35,
      "outputs": [
        {
          "output_type": "execute_result",
          "data": {
            "text/html": [
              "<div>\n",
              "<style scoped>\n",
              "    .dataframe tbody tr th:only-of-type {\n",
              "        vertical-align: middle;\n",
              "    }\n",
              "\n",
              "    .dataframe tbody tr th {\n",
              "        vertical-align: top;\n",
              "    }\n",
              "\n",
              "    .dataframe thead th {\n",
              "        text-align: right;\n",
              "    }\n",
              "</style>\n",
              "<table border=\"1\" class=\"dataframe\">\n",
              "  <thead>\n",
              "    <tr style=\"text-align: right;\">\n",
              "      <th></th>\n",
              "      <th>customer_id</th>\n",
              "      <th>recency</th>\n",
              "      <th>frequency</th>\n",
              "      <th>monetary</th>\n",
              "    </tr>\n",
              "  </thead>\n",
              "  <tbody>\n",
              "    <tr>\n",
              "      <th>0</th>\n",
              "      <td>1</td>\n",
              "      <td>9</td>\n",
              "      <td>11</td>\n",
              "      <td>9084.45</td>\n",
              "    </tr>\n",
              "    <tr>\n",
              "      <th>1</th>\n",
              "      <td>2</td>\n",
              "      <td>130</td>\n",
              "      <td>3</td>\n",
              "      <td>4149.07</td>\n",
              "    </tr>\n",
              "    <tr>\n",
              "      <th>2</th>\n",
              "      <td>3</td>\n",
              "      <td>104</td>\n",
              "      <td>8</td>\n",
              "      <td>9888.23</td>\n",
              "    </tr>\n",
              "    <tr>\n",
              "      <th>3</th>\n",
              "      <td>4</td>\n",
              "      <td>197</td>\n",
              "      <td>2</td>\n",
              "      <td>1047.72</td>\n",
              "    </tr>\n",
              "    <tr>\n",
              "      <th>4</th>\n",
              "      <td>5</td>\n",
              "      <td>18</td>\n",
              "      <td>6</td>\n",
              "      <td>5903.20</td>\n",
              "    </tr>\n",
              "  </tbody>\n",
              "</table>\n",
              "</div>"
            ],
            "text/plain": [
              "   customer_id  recency  frequency  monetary\n",
              "0            1        9         11   9084.45\n",
              "1            2      130          3   4149.07\n",
              "2            3      104          8   9888.23\n",
              "3            4      197          2   1047.72\n",
              "4            5       18          6   5903.20"
            ]
          },
          "metadata": {
            "tags": []
          },
          "execution_count": 35
        }
      ]
    },
    {
      "cell_type": "code",
      "metadata": {
        "colab": {
          "base_uri": "https://localhost:8080/"
        },
        "id": "J54KUZY7_Zuh",
        "outputId": "d5ef9250-2c20-47bb-b765-5d9251f6c777"
      },
      "source": [
        "quantiles = rfm.quantile(q=[0.25, 0.5, 0.75])\n",
        "quantiles\n",
        "quantiles.to_dict()"
      ],
      "execution_count": 36,
      "outputs": [
        {
          "output_type": "execute_result",
          "data": {
            "text/plain": [
              "{'customer_id': {0.25: 876.25, 0.5: 1750.5, 0.75: 2624.75},\n",
              " 'frequency': {0.25: 4.0, 0.5: 6.0, 0.75: 7.0},\n",
              " 'monetary': {0.25: 4153.662499999999, 0.5: 5991.375, 0.75: 8135.42},\n",
              " 'recency': {0.25: 19.0, 0.5: 46.0, 0.75: 88.0}}"
            ]
          },
          "metadata": {
            "tags": []
          },
          "execution_count": 36
        }
      ]
    },
    {
      "cell_type": "code",
      "metadata": {
        "id": "Kd1MbA8e_cbp"
      },
      "source": [
        "def R_score(x, p, d):\n",
        "    if x <= d[p][0.25]:\n",
        "        return 4\n",
        "    elif x <= d[p][0.5]:\n",
        "        return 3\n",
        "    elif x <= d[p][0.75]:\n",
        "        return 2\n",
        "    else:\n",
        "        return 1\n",
        "\n",
        "def FM_score(x, p, d):\n",
        "    if x <= d[p][0.25]:\n",
        "        return 1\n",
        "    elif x <= d[p][0.5]:\n",
        "        return 2\n",
        "    elif x <= d[p][0.75]:\n",
        "        return 3\n",
        "    else:\n",
        "        return 4"
      ],
      "execution_count": 37,
      "outputs": []
    },
    {
      "cell_type": "code",
      "metadata": {
        "colab": {
          "base_uri": "https://localhost:8080/",
          "height": 204
        },
        "id": "nWSuuEij_hcQ",
        "outputId": "8a4c9c64-5e16-4e59-bb44-b6d8abfb9bb0"
      },
      "source": [
        "rfm['R_Quartile'] = rfm['recency'].apply(R_score, args=('recency', quantiles,))\n",
        "rfm['F_Quartile'] = rfm['frequency'].apply(FM_score, args=('frequency', quantiles,))\n",
        "rfm['M_Quartile'] = rfm['monetary'].apply(FM_score, args=('monetary', quantiles,))\n",
        "rfm.head()"
      ],
      "execution_count": 38,
      "outputs": [
        {
          "output_type": "execute_result",
          "data": {
            "text/html": [
              "<div>\n",
              "<style scoped>\n",
              "    .dataframe tbody tr th:only-of-type {\n",
              "        vertical-align: middle;\n",
              "    }\n",
              "\n",
              "    .dataframe tbody tr th {\n",
              "        vertical-align: top;\n",
              "    }\n",
              "\n",
              "    .dataframe thead th {\n",
              "        text-align: right;\n",
              "    }\n",
              "</style>\n",
              "<table border=\"1\" class=\"dataframe\">\n",
              "  <thead>\n",
              "    <tr style=\"text-align: right;\">\n",
              "      <th></th>\n",
              "      <th>customer_id</th>\n",
              "      <th>recency</th>\n",
              "      <th>frequency</th>\n",
              "      <th>monetary</th>\n",
              "      <th>R_Quartile</th>\n",
              "      <th>F_Quartile</th>\n",
              "      <th>M_Quartile</th>\n",
              "    </tr>\n",
              "  </thead>\n",
              "  <tbody>\n",
              "    <tr>\n",
              "      <th>0</th>\n",
              "      <td>1</td>\n",
              "      <td>9</td>\n",
              "      <td>11</td>\n",
              "      <td>9084.45</td>\n",
              "      <td>4</td>\n",
              "      <td>4</td>\n",
              "      <td>4</td>\n",
              "    </tr>\n",
              "    <tr>\n",
              "      <th>1</th>\n",
              "      <td>2</td>\n",
              "      <td>130</td>\n",
              "      <td>3</td>\n",
              "      <td>4149.07</td>\n",
              "      <td>1</td>\n",
              "      <td>1</td>\n",
              "      <td>1</td>\n",
              "    </tr>\n",
              "    <tr>\n",
              "      <th>2</th>\n",
              "      <td>3</td>\n",
              "      <td>104</td>\n",
              "      <td>8</td>\n",
              "      <td>9888.23</td>\n",
              "      <td>1</td>\n",
              "      <td>4</td>\n",
              "      <td>4</td>\n",
              "    </tr>\n",
              "    <tr>\n",
              "      <th>3</th>\n",
              "      <td>4</td>\n",
              "      <td>197</td>\n",
              "      <td>2</td>\n",
              "      <td>1047.72</td>\n",
              "      <td>1</td>\n",
              "      <td>1</td>\n",
              "      <td>1</td>\n",
              "    </tr>\n",
              "    <tr>\n",
              "      <th>4</th>\n",
              "      <td>5</td>\n",
              "      <td>18</td>\n",
              "      <td>6</td>\n",
              "      <td>5903.20</td>\n",
              "      <td>4</td>\n",
              "      <td>2</td>\n",
              "      <td>2</td>\n",
              "    </tr>\n",
              "  </tbody>\n",
              "</table>\n",
              "</div>"
            ],
            "text/plain": [
              "   customer_id  recency  frequency  monetary  R_Quartile  F_Quartile  \\\n",
              "0            1        9         11   9084.45           4           4   \n",
              "1            2      130          3   4149.07           1           1   \n",
              "2            3      104          8   9888.23           1           4   \n",
              "3            4      197          2   1047.72           1           1   \n",
              "4            5       18          6   5903.20           4           2   \n",
              "\n",
              "   M_Quartile  \n",
              "0           4  \n",
              "1           1  \n",
              "2           4  \n",
              "3           1  \n",
              "4           2  "
            ]
          },
          "metadata": {
            "tags": []
          },
          "execution_count": 38
        }
      ]
    },
    {
      "cell_type": "code",
      "metadata": {
        "colab": {
          "base_uri": "https://localhost:8080/",
          "height": 204
        },
        "id": "Gx82GY_y_jPP",
        "outputId": "606a1112-5b5c-47e3-e82b-2f15a9fadc66"
      },
      "source": [
        "rfm['RFMScore'] = rfm['R_Quartile'].map(str) + rfm['F_Quartile'].map(str) + rfm['M_Quartile'].map(str)\n",
        "rfm = rfm.reset_index(drop=True)\n",
        "rfm.head()"
      ],
      "execution_count": 39,
      "outputs": [
        {
          "output_type": "execute_result",
          "data": {
            "text/html": [
              "<div>\n",
              "<style scoped>\n",
              "    .dataframe tbody tr th:only-of-type {\n",
              "        vertical-align: middle;\n",
              "    }\n",
              "\n",
              "    .dataframe tbody tr th {\n",
              "        vertical-align: top;\n",
              "    }\n",
              "\n",
              "    .dataframe thead th {\n",
              "        text-align: right;\n",
              "    }\n",
              "</style>\n",
              "<table border=\"1\" class=\"dataframe\">\n",
              "  <thead>\n",
              "    <tr style=\"text-align: right;\">\n",
              "      <th></th>\n",
              "      <th>customer_id</th>\n",
              "      <th>recency</th>\n",
              "      <th>frequency</th>\n",
              "      <th>monetary</th>\n",
              "      <th>R_Quartile</th>\n",
              "      <th>F_Quartile</th>\n",
              "      <th>M_Quartile</th>\n",
              "      <th>RFMScore</th>\n",
              "    </tr>\n",
              "  </thead>\n",
              "  <tbody>\n",
              "    <tr>\n",
              "      <th>0</th>\n",
              "      <td>1</td>\n",
              "      <td>9</td>\n",
              "      <td>11</td>\n",
              "      <td>9084.45</td>\n",
              "      <td>4</td>\n",
              "      <td>4</td>\n",
              "      <td>4</td>\n",
              "      <td>444</td>\n",
              "    </tr>\n",
              "    <tr>\n",
              "      <th>1</th>\n",
              "      <td>2</td>\n",
              "      <td>130</td>\n",
              "      <td>3</td>\n",
              "      <td>4149.07</td>\n",
              "      <td>1</td>\n",
              "      <td>1</td>\n",
              "      <td>1</td>\n",
              "      <td>111</td>\n",
              "    </tr>\n",
              "    <tr>\n",
              "      <th>2</th>\n",
              "      <td>3</td>\n",
              "      <td>104</td>\n",
              "      <td>8</td>\n",
              "      <td>9888.23</td>\n",
              "      <td>1</td>\n",
              "      <td>4</td>\n",
              "      <td>4</td>\n",
              "      <td>144</td>\n",
              "    </tr>\n",
              "    <tr>\n",
              "      <th>3</th>\n",
              "      <td>4</td>\n",
              "      <td>197</td>\n",
              "      <td>2</td>\n",
              "      <td>1047.72</td>\n",
              "      <td>1</td>\n",
              "      <td>1</td>\n",
              "      <td>1</td>\n",
              "      <td>111</td>\n",
              "    </tr>\n",
              "    <tr>\n",
              "      <th>4</th>\n",
              "      <td>5</td>\n",
              "      <td>18</td>\n",
              "      <td>6</td>\n",
              "      <td>5903.20</td>\n",
              "      <td>4</td>\n",
              "      <td>2</td>\n",
              "      <td>2</td>\n",
              "      <td>422</td>\n",
              "    </tr>\n",
              "  </tbody>\n",
              "</table>\n",
              "</div>"
            ],
            "text/plain": [
              "   customer_id  recency  frequency  monetary  R_Quartile  F_Quartile  \\\n",
              "0            1        9         11   9084.45           4           4   \n",
              "1            2      130          3   4149.07           1           1   \n",
              "2            3      104          8   9888.23           1           4   \n",
              "3            4      197          2   1047.72           1           1   \n",
              "4            5       18          6   5903.20           4           2   \n",
              "\n",
              "   M_Quartile RFMScore  \n",
              "0           4      444  \n",
              "1           1      111  \n",
              "2           4      144  \n",
              "3           1      111  \n",
              "4           2      422  "
            ]
          },
          "metadata": {
            "tags": []
          },
          "execution_count": 39
        }
      ]
    },
    {
      "cell_type": "code",
      "metadata": {
        "colab": {
          "base_uri": "https://localhost:8080/"
        },
        "id": "D-ALRwuv_k_u",
        "outputId": "88c0a0c7-354e-41ad-ff9b-63560f37cfed"
      },
      "source": [
        "print('Total customers:', rfm.customer_id.count())\n",
        "print('Best customers:', rfm[rfm['RFMScore'] == '444']['customer_id'].count())\n",
        "print('Loyal customers:', rfm[rfm['F_Quartile'] == 4]['customer_id'].count())\n",
        "print('Lost customers:', rfm[rfm['R_Quartile'] == 1]['customer_id'].count())"
      ],
      "execution_count": 40,
      "outputs": [
        {
          "output_type": "stream",
          "text": [
            "Total customers: 3494\n",
            "Best customers: 210\n",
            "Loyal customers: 712\n",
            "Lost customers: 864\n"
          ],
          "name": "stdout"
        }
      ]
    },
    {
      "cell_type": "markdown",
      "metadata": {
        "id": "ARyWSeM4_uYi"
      },
      "source": [
        "# Customer Life Cycle Value Analysis"
      ]
    },
    {
      "cell_type": "code",
      "metadata": {
        "colab": {
          "base_uri": "https://localhost:8080/",
          "height": 204
        },
        "id": "VQ7CbKoh_pUC",
        "outputId": "11432b07-f580-43c9-8d29-4fb234dc08ed"
      },
      "source": [
        "mm_scalar = MinMaxScaler()\n",
        "\n",
        "rfm_scaled = rfm[['frequency','monetary']]\n",
        "rfm_scaled = pd.DataFrame(mm_scalar.fit_transform(rfm_scaled), columns=['frequency_mm','monetary_mm'])\n",
        "\n",
        "rfm_inv_scaled = rfm[['recency']]\n",
        "rfm_inv_scaled = pd.DataFrame(mm_scalar.fit_transform(rfm_inv_scaled), columns=['recency_mm'])\n",
        "\n",
        "rfm = pd.concat([rfm, rfm_scaled, rfm_inv_scaled], axis=1)\n",
        "\n",
        "rfm.head()"
      ],
      "execution_count": 41,
      "outputs": [
        {
          "output_type": "execute_result",
          "data": {
            "text/html": [
              "<div>\n",
              "<style scoped>\n",
              "    .dataframe tbody tr th:only-of-type {\n",
              "        vertical-align: middle;\n",
              "    }\n",
              "\n",
              "    .dataframe tbody tr th {\n",
              "        vertical-align: top;\n",
              "    }\n",
              "\n",
              "    .dataframe thead th {\n",
              "        text-align: right;\n",
              "    }\n",
              "</style>\n",
              "<table border=\"1\" class=\"dataframe\">\n",
              "  <thead>\n",
              "    <tr style=\"text-align: right;\">\n",
              "      <th></th>\n",
              "      <th>customer_id</th>\n",
              "      <th>recency</th>\n",
              "      <th>frequency</th>\n",
              "      <th>monetary</th>\n",
              "      <th>R_Quartile</th>\n",
              "      <th>F_Quartile</th>\n",
              "      <th>M_Quartile</th>\n",
              "      <th>RFMScore</th>\n",
              "      <th>frequency_mm</th>\n",
              "      <th>monetary_mm</th>\n",
              "      <th>recency_mm</th>\n",
              "    </tr>\n",
              "  </thead>\n",
              "  <tbody>\n",
              "    <tr>\n",
              "      <th>0</th>\n",
              "      <td>1</td>\n",
              "      <td>9</td>\n",
              "      <td>11</td>\n",
              "      <td>9084.45</td>\n",
              "      <td>4</td>\n",
              "      <td>4</td>\n",
              "      <td>4</td>\n",
              "      <td>444</td>\n",
              "      <td>0.769231</td>\n",
              "      <td>0.474679</td>\n",
              "      <td>0.019830</td>\n",
              "    </tr>\n",
              "    <tr>\n",
              "      <th>1</th>\n",
              "      <td>2</td>\n",
              "      <td>130</td>\n",
              "      <td>3</td>\n",
              "      <td>4149.07</td>\n",
              "      <td>1</td>\n",
              "      <td>1</td>\n",
              "      <td>1</td>\n",
              "      <td>111</td>\n",
              "      <td>0.153846</td>\n",
              "      <td>0.215072</td>\n",
              "      <td>0.362606</td>\n",
              "    </tr>\n",
              "    <tr>\n",
              "      <th>2</th>\n",
              "      <td>3</td>\n",
              "      <td>104</td>\n",
              "      <td>8</td>\n",
              "      <td>9888.23</td>\n",
              "      <td>1</td>\n",
              "      <td>4</td>\n",
              "      <td>4</td>\n",
              "      <td>144</td>\n",
              "      <td>0.538462</td>\n",
              "      <td>0.516959</td>\n",
              "      <td>0.288952</td>\n",
              "    </tr>\n",
              "    <tr>\n",
              "      <th>3</th>\n",
              "      <td>4</td>\n",
              "      <td>197</td>\n",
              "      <td>2</td>\n",
              "      <td>1047.72</td>\n",
              "      <td>1</td>\n",
              "      <td>1</td>\n",
              "      <td>1</td>\n",
              "      <td>111</td>\n",
              "      <td>0.076923</td>\n",
              "      <td>0.051937</td>\n",
              "      <td>0.552408</td>\n",
              "    </tr>\n",
              "    <tr>\n",
              "      <th>4</th>\n",
              "      <td>5</td>\n",
              "      <td>18</td>\n",
              "      <td>6</td>\n",
              "      <td>5903.20</td>\n",
              "      <td>4</td>\n",
              "      <td>2</td>\n",
              "      <td>2</td>\n",
              "      <td>422</td>\n",
              "      <td>0.384615</td>\n",
              "      <td>0.307341</td>\n",
              "      <td>0.045326</td>\n",
              "    </tr>\n",
              "  </tbody>\n",
              "</table>\n",
              "</div>"
            ],
            "text/plain": [
              "   customer_id  recency  frequency  monetary  R_Quartile  F_Quartile  \\\n",
              "0            1        9         11   9084.45           4           4   \n",
              "1            2      130          3   4149.07           1           1   \n",
              "2            3      104          8   9888.23           1           4   \n",
              "3            4      197          2   1047.72           1           1   \n",
              "4            5       18          6   5903.20           4           2   \n",
              "\n",
              "   M_Quartile RFMScore  frequency_mm  monetary_mm  recency_mm  \n",
              "0           4      444      0.769231     0.474679    0.019830  \n",
              "1           1      111      0.153846     0.215072    0.362606  \n",
              "2           4      144      0.538462     0.516959    0.288952  \n",
              "3           1      111      0.076923     0.051937    0.552408  \n",
              "4           2      422      0.384615     0.307341    0.045326  "
            ]
          },
          "metadata": {
            "tags": []
          },
          "execution_count": 41
        }
      ]
    },
    {
      "cell_type": "markdown",
      "metadata": {
        "id": "0gE8t-Rh_3XN"
      },
      "source": [
        "## Life time value = Average Value of Sale x Number of transactions x Retention Time Period\n"
      ]
    },
    {
      "cell_type": "code",
      "metadata": {
        "id": "X4dwS89j_0ef"
      },
      "source": [
        "avg_sales_value = transaction_df.groupby(['customer_id'], as_index=False)['list_price'].mean()\n",
        "avg_sales_value.columns = ['customer_id', 'avg_value_of_sale']\n",
        "avg_sales_value_mm = pd.DataFrame(mm_scalar.fit_transform(avg_sales_value[['avg_value_of_sale']]), columns=['avg_value_of_sale_mm'])\n",
        "avg_sales_value = pd.concat([avg_sales_value, avg_sales_value_mm], axis=1)\n",
        "\n",
        "rfm = pd.merge(rfm, avg_sales_value, on='customer_id')\n",
        "\n",
        "rfm['lifetime_value'] = rfm.avg_value_of_sale_mm * rfm.frequency_mm * rfm.recency_mm"
      ],
      "execution_count": 42,
      "outputs": []
    },
    {
      "cell_type": "markdown",
      "metadata": {
        "id": "uE9LihR5ACjZ"
      },
      "source": [
        "## Customer Life Cycle Value = Life time value * Profit Margin"
      ]
    },
    {
      "cell_type": "code",
      "metadata": {
        "colab": {
          "base_uri": "https://localhost:8080/",
          "height": 379
        },
        "id": "4g5Hbsg__-pG",
        "outputId": "f5ca955e-4d59-4be4-ad0e-356e0c4e9cdb"
      },
      "source": [
        "rfm = pd.merge(rfm, profit_df, on='customer_id')\n",
        "\n",
        "rfm['customer_lifetime_value'] = rfm['lifetime_value'] * rfm['profit']\n",
        "rfm.head(10)"
      ],
      "execution_count": 43,
      "outputs": [
        {
          "output_type": "execute_result",
          "data": {
            "text/html": [
              "<div>\n",
              "<style scoped>\n",
              "    .dataframe tbody tr th:only-of-type {\n",
              "        vertical-align: middle;\n",
              "    }\n",
              "\n",
              "    .dataframe tbody tr th {\n",
              "        vertical-align: top;\n",
              "    }\n",
              "\n",
              "    .dataframe thead th {\n",
              "        text-align: right;\n",
              "    }\n",
              "</style>\n",
              "<table border=\"1\" class=\"dataframe\">\n",
              "  <thead>\n",
              "    <tr style=\"text-align: right;\">\n",
              "      <th></th>\n",
              "      <th>customer_id</th>\n",
              "      <th>recency</th>\n",
              "      <th>frequency</th>\n",
              "      <th>monetary</th>\n",
              "      <th>R_Quartile</th>\n",
              "      <th>F_Quartile</th>\n",
              "      <th>M_Quartile</th>\n",
              "      <th>RFMScore</th>\n",
              "      <th>frequency_mm</th>\n",
              "      <th>monetary_mm</th>\n",
              "      <th>recency_mm</th>\n",
              "      <th>avg_value_of_sale</th>\n",
              "      <th>avg_value_of_sale_mm</th>\n",
              "      <th>lifetime_value</th>\n",
              "      <th>profit</th>\n",
              "      <th>list_price</th>\n",
              "      <th>customer_lifetime_value</th>\n",
              "    </tr>\n",
              "  </thead>\n",
              "  <tbody>\n",
              "    <tr>\n",
              "      <th>0</th>\n",
              "      <td>1</td>\n",
              "      <td>9</td>\n",
              "      <td>11</td>\n",
              "      <td>9084.45</td>\n",
              "      <td>4</td>\n",
              "      <td>4</td>\n",
              "      <td>4</td>\n",
              "      <td>444</td>\n",
              "      <td>0.769231</td>\n",
              "      <td>0.474679</td>\n",
              "      <td>0.019830</td>\n",
              "      <td>825.859091</td>\n",
              "      <td>0.376893</td>\n",
              "      <td>0.005749</td>\n",
              "      <td>3018.09</td>\n",
              "      <td>9084.45</td>\n",
              "      <td>17.351238</td>\n",
              "    </tr>\n",
              "    <tr>\n",
              "      <th>1</th>\n",
              "      <td>2</td>\n",
              "      <td>130</td>\n",
              "      <td>3</td>\n",
              "      <td>4149.07</td>\n",
              "      <td>1</td>\n",
              "      <td>1</td>\n",
              "      <td>1</td>\n",
              "      <td>111</td>\n",
              "      <td>0.153846</td>\n",
              "      <td>0.215072</td>\n",
              "      <td>0.362606</td>\n",
              "      <td>1383.023333</td>\n",
              "      <td>0.651206</td>\n",
              "      <td>0.036328</td>\n",
              "      <td>2226.26</td>\n",
              "      <td>4149.07</td>\n",
              "      <td>80.875309</td>\n",
              "    </tr>\n",
              "    <tr>\n",
              "      <th>2</th>\n",
              "      <td>3</td>\n",
              "      <td>104</td>\n",
              "      <td>8</td>\n",
              "      <td>9888.23</td>\n",
              "      <td>1</td>\n",
              "      <td>4</td>\n",
              "      <td>4</td>\n",
              "      <td>144</td>\n",
              "      <td>0.538462</td>\n",
              "      <td>0.516959</td>\n",
              "      <td>0.288952</td>\n",
              "      <td>1236.028750</td>\n",
              "      <td>0.578835</td>\n",
              "      <td>0.090061</td>\n",
              "      <td>3362.81</td>\n",
              "      <td>9888.23</td>\n",
              "      <td>302.856658</td>\n",
              "    </tr>\n",
              "    <tr>\n",
              "      <th>3</th>\n",
              "      <td>4</td>\n",
              "      <td>197</td>\n",
              "      <td>2</td>\n",
              "      <td>1047.72</td>\n",
              "      <td>1</td>\n",
              "      <td>1</td>\n",
              "      <td>1</td>\n",
              "      <td>111</td>\n",
              "      <td>0.076923</td>\n",
              "      <td>0.051937</td>\n",
              "      <td>0.552408</td>\n",
              "      <td>523.860000</td>\n",
              "      <td>0.228208</td>\n",
              "      <td>0.009697</td>\n",
              "      <td>220.57</td>\n",
              "      <td>1047.72</td>\n",
              "      <td>2.138916</td>\n",
              "    </tr>\n",
              "    <tr>\n",
              "      <th>4</th>\n",
              "      <td>5</td>\n",
              "      <td>18</td>\n",
              "      <td>6</td>\n",
              "      <td>5903.20</td>\n",
              "      <td>4</td>\n",
              "      <td>2</td>\n",
              "      <td>2</td>\n",
              "      <td>422</td>\n",
              "      <td>0.384615</td>\n",
              "      <td>0.307341</td>\n",
              "      <td>0.045326</td>\n",
              "      <td>983.866667</td>\n",
              "      <td>0.454686</td>\n",
              "      <td>0.007927</td>\n",
              "      <td>2394.94</td>\n",
              "      <td>5903.20</td>\n",
              "      <td>18.983587</td>\n",
              "    </tr>\n",
              "    <tr>\n",
              "      <th>5</th>\n",
              "      <td>6</td>\n",
              "      <td>66</td>\n",
              "      <td>5</td>\n",
              "      <td>5931.69</td>\n",
              "      <td>2</td>\n",
              "      <td>2</td>\n",
              "      <td>2</td>\n",
              "      <td>222</td>\n",
              "      <td>0.307692</td>\n",
              "      <td>0.308840</td>\n",
              "      <td>0.181303</td>\n",
              "      <td>1186.338000</td>\n",
              "      <td>0.554370</td>\n",
              "      <td>0.030926</td>\n",
              "      <td>3946.55</td>\n",
              "      <td>5931.69</td>\n",
              "      <td>122.050459</td>\n",
              "    </tr>\n",
              "    <tr>\n",
              "      <th>6</th>\n",
              "      <td>7</td>\n",
              "      <td>255</td>\n",
              "      <td>3</td>\n",
              "      <td>995.38</td>\n",
              "      <td>1</td>\n",
              "      <td>1</td>\n",
              "      <td>1</td>\n",
              "      <td>111</td>\n",
              "      <td>0.153846</td>\n",
              "      <td>0.049184</td>\n",
              "      <td>0.716714</td>\n",
              "      <td>331.793333</td>\n",
              "      <td>0.133646</td>\n",
              "      <td>0.014736</td>\n",
              "      <td>220.11</td>\n",
              "      <td>995.38</td>\n",
              "      <td>3.243618</td>\n",
              "    </tr>\n",
              "    <tr>\n",
              "      <th>7</th>\n",
              "      <td>8</td>\n",
              "      <td>24</td>\n",
              "      <td>10</td>\n",
              "      <td>12024.76</td>\n",
              "      <td>3</td>\n",
              "      <td>4</td>\n",
              "      <td>4</td>\n",
              "      <td>344</td>\n",
              "      <td>0.692308</td>\n",
              "      <td>0.629343</td>\n",
              "      <td>0.062323</td>\n",
              "      <td>1202.476000</td>\n",
              "      <td>0.562316</td>\n",
              "      <td>0.024262</td>\n",
              "      <td>7066.94</td>\n",
              "      <td>12024.76</td>\n",
              "      <td>171.458349</td>\n",
              "    </tr>\n",
              "    <tr>\n",
              "      <th>8</th>\n",
              "      <td>9</td>\n",
              "      <td>80</td>\n",
              "      <td>6</td>\n",
              "      <td>5357.55</td>\n",
              "      <td>2</td>\n",
              "      <td>2</td>\n",
              "      <td>2</td>\n",
              "      <td>222</td>\n",
              "      <td>0.384615</td>\n",
              "      <td>0.278640</td>\n",
              "      <td>0.220963</td>\n",
              "      <td>892.925000</td>\n",
              "      <td>0.409912</td>\n",
              "      <td>0.034837</td>\n",
              "      <td>2353.11</td>\n",
              "      <td>5357.55</td>\n",
              "      <td>81.974663</td>\n",
              "    </tr>\n",
              "    <tr>\n",
              "      <th>9</th>\n",
              "      <td>10</td>\n",
              "      <td>45</td>\n",
              "      <td>5</td>\n",
              "      <td>5003.75</td>\n",
              "      <td>3</td>\n",
              "      <td>2</td>\n",
              "      <td>2</td>\n",
              "      <td>322</td>\n",
              "      <td>0.307692</td>\n",
              "      <td>0.260029</td>\n",
              "      <td>0.121813</td>\n",
              "      <td>1000.750000</td>\n",
              "      <td>0.462998</td>\n",
              "      <td>0.017354</td>\n",
              "      <td>3358.28</td>\n",
              "      <td>5003.75</td>\n",
              "      <td>58.278291</td>\n",
              "    </tr>\n",
              "  </tbody>\n",
              "</table>\n",
              "</div>"
            ],
            "text/plain": [
              "   customer_id  recency  frequency  monetary  R_Quartile  F_Quartile  \\\n",
              "0            1        9         11   9084.45           4           4   \n",
              "1            2      130          3   4149.07           1           1   \n",
              "2            3      104          8   9888.23           1           4   \n",
              "3            4      197          2   1047.72           1           1   \n",
              "4            5       18          6   5903.20           4           2   \n",
              "5            6       66          5   5931.69           2           2   \n",
              "6            7      255          3    995.38           1           1   \n",
              "7            8       24         10  12024.76           3           4   \n",
              "8            9       80          6   5357.55           2           2   \n",
              "9           10       45          5   5003.75           3           2   \n",
              "\n",
              "   M_Quartile RFMScore  frequency_mm  monetary_mm  recency_mm  \\\n",
              "0           4      444      0.769231     0.474679    0.019830   \n",
              "1           1      111      0.153846     0.215072    0.362606   \n",
              "2           4      144      0.538462     0.516959    0.288952   \n",
              "3           1      111      0.076923     0.051937    0.552408   \n",
              "4           2      422      0.384615     0.307341    0.045326   \n",
              "5           2      222      0.307692     0.308840    0.181303   \n",
              "6           1      111      0.153846     0.049184    0.716714   \n",
              "7           4      344      0.692308     0.629343    0.062323   \n",
              "8           2      222      0.384615     0.278640    0.220963   \n",
              "9           2      322      0.307692     0.260029    0.121813   \n",
              "\n",
              "   avg_value_of_sale  avg_value_of_sale_mm  lifetime_value   profit  \\\n",
              "0         825.859091              0.376893        0.005749  3018.09   \n",
              "1        1383.023333              0.651206        0.036328  2226.26   \n",
              "2        1236.028750              0.578835        0.090061  3362.81   \n",
              "3         523.860000              0.228208        0.009697   220.57   \n",
              "4         983.866667              0.454686        0.007927  2394.94   \n",
              "5        1186.338000              0.554370        0.030926  3946.55   \n",
              "6         331.793333              0.133646        0.014736   220.11   \n",
              "7        1202.476000              0.562316        0.024262  7066.94   \n",
              "8         892.925000              0.409912        0.034837  2353.11   \n",
              "9        1000.750000              0.462998        0.017354  3358.28   \n",
              "\n",
              "   list_price  customer_lifetime_value  \n",
              "0     9084.45                17.351238  \n",
              "1     4149.07                80.875309  \n",
              "2     9888.23               302.856658  \n",
              "3     1047.72                 2.138916  \n",
              "4     5903.20                18.983587  \n",
              "5     5931.69               122.050459  \n",
              "6      995.38                 3.243618  \n",
              "7    12024.76               171.458349  \n",
              "8     5357.55                81.974663  \n",
              "9     5003.75                58.278291  "
            ]
          },
          "metadata": {
            "tags": []
          },
          "execution_count": 43
        }
      ]
    },
    {
      "cell_type": "code",
      "metadata": {
        "id": "265Th7wfAMHb"
      },
      "source": [
        "rfm_segmentation = rfm[['customer_id', 'R_Quartile', 'F_Quartile', 'M_Quartile', 'profit', 'list_price', 'customer_lifetime_value']]"
      ],
      "execution_count": 44,
      "outputs": []
    },
    {
      "cell_type": "markdown",
      "metadata": {
        "id": "W4UaR3t-AZO-"
      },
      "source": [
        "# Visualise results of RFM and CLV analysis with customer data"
      ]
    },
    {
      "cell_type": "code",
      "metadata": {
        "id": "GtP77bvEAOzg"
      },
      "source": [
        "customer_df = pd.merge(customer_df, rfm[['customer_id', 'R_Quartile', 'F_Quartile', 'M_Quartile', 'RFMScore', 'customer_lifetime_value']], on='customer_id')"
      ],
      "execution_count": 45,
      "outputs": []
    },
    {
      "cell_type": "code",
      "metadata": {
        "colab": {
          "base_uri": "https://localhost:8080/"
        },
        "id": "qEfpDnBVCTsa",
        "outputId": "ae114220-a099-4862-89e4-c86c728b9870"
      },
      "source": [
        "agg = customer_df.groupby('RFMScore')['customer_id'].count().reset_index()\n",
        "agg = agg[agg['customer_id'] >= 100]\n",
        "rfm_list = tuple(agg['RFMScore'])\n",
        "rfm_list"
      ],
      "execution_count": 46,
      "outputs": [
        {
          "output_type": "execute_result",
          "data": {
            "text/plain": [
              "('111',\n",
              " '112',\n",
              " '123',\n",
              " '211',\n",
              " '222',\n",
              " '223',\n",
              " '244',\n",
              " '311',\n",
              " '322',\n",
              " '323',\n",
              " '344',\n",
              " '411',\n",
              " '422',\n",
              " '423',\n",
              " '444')"
            ]
          },
          "metadata": {
            "tags": []
          },
          "execution_count": 46
        }
      ]
    },
    {
      "cell_type": "code",
      "metadata": {
        "colab": {
          "base_uri": "https://localhost:8080/",
          "height": 299
        },
        "id": "Kfb2hyrcAoOd",
        "outputId": "a32f75d5-e8b6-4762-9e98-ec0588fcdf44"
      },
      "source": [
        "var = 'RFMScore'\n",
        "data = customer_df[customer_df['RFMScore'].isin(rfm_list)][[var, 'list_price']]\n",
        "data.plot.scatter(y=var, x='list_price')"
      ],
      "execution_count": 47,
      "outputs": [
        {
          "output_type": "execute_result",
          "data": {
            "text/plain": [
              "<matplotlib.axes._subplots.AxesSubplot at 0x7fed4e8e11d0>"
            ]
          },
          "metadata": {
            "tags": []
          },
          "execution_count": 47
        },
        {
          "output_type": "display_data",
          "data": {
            "image/png": "[encoded data removed]",
            "text/plain": [
              "<Figure size 432x288 with 1 Axes>"
            ]
          },
          "metadata": {
            "tags": []
          }
        }
      ]
    },
    {
      "cell_type": "code",
      "metadata": {
        "colab": {
          "base_uri": "https://localhost:8080/",
          "height": 299
        },
        "id": "AGQK9WHnDmOo",
        "outputId": "d9b6e59d-b83d-487f-8b4a-77845f5e346c"
      },
      "source": [
        "var = 'RFMScore'\n",
        "data = customer_df[customer_df['RFMScore'].isin(rfm_list)][[var, 'profit']]\n",
        "data.plot.scatter(y=var, x='profit')"
      ],
      "execution_count": 48,
      "outputs": [
        {
          "output_type": "execute_result",
          "data": {
            "text/plain": [
              "<matplotlib.axes._subplots.AxesSubplot at 0x7fed4e86c590>"
            ]
          },
          "metadata": {
            "tags": []
          },
          "execution_count": 48
        },
        {
          "output_type": "display_data",
          "data": {
            "image/png": "[encoded data removed]",
            "text/plain": [
              "<Figure size 432x288 with 1 Axes>"
            ]
          },
          "metadata": {
            "tags": []
          }
        }
      ]
    },
    {
      "cell_type": "code",
      "metadata": {
        "colab": {
          "base_uri": "https://localhost:8080/",
          "height": 299
        },
        "id": "HwaP-rFnA8qh",
        "outputId": "a803d0cb-dde0-421e-c5a0-92ab44700581"
      },
      "source": [
        "var = 'RFMScore'\n",
        "data = customer_df[customer_df['RFMScore'].isin(rfm_list)][[var, 'customer_lifetime_value']]\n",
        "data.plot.scatter(y=var, x='customer_lifetime_value')"
      ],
      "execution_count": 49,
      "outputs": [
        {
          "output_type": "execute_result",
          "data": {
            "text/plain": [
              "<matplotlib.axes._subplots.AxesSubplot at 0x7fed4e7b5590>"
            ]
          },
          "metadata": {
            "tags": []
          },
          "execution_count": 49
        },
        {
          "output_type": "display_data",
          "data": {
            "image/png": "[encoded data removed]",
            "text/plain": [
              "<Figure size 432x288 with 1 Axes>"
            ]
          },
          "metadata": {
            "tags": []
          }
        }
      ]
    },
    {
      "cell_type": "code",
      "metadata": {
        "colab": {
          "base_uri": "https://localhost:8080/",
          "height": 299
        },
        "id": "uWJKfZfvEOQJ",
        "outputId": "ce82d3a9-e927-4fe6-cfc5-0fb92229ef80"
      },
      "source": [
        "var = 'age'\n",
        "data = customer_df[customer_df['RFMScore'].isin(rfm_list)][[var, 'customer_lifetime_value']]\n",
        "data.plot.scatter(x=var, y='customer_lifetime_value')"
      ],
      "execution_count": 50,
      "outputs": [
        {
          "output_type": "execute_result",
          "data": {
            "text/plain": [
              "<matplotlib.axes._subplots.AxesSubplot at 0x7fed58d0e090>"
            ]
          },
          "metadata": {
            "tags": []
          },
          "execution_count": 50
        },
        {
          "output_type": "display_data",
          "data": {
            "image/png": "[encoded data removed]",
            "text/plain": [
              "<Figure size 432x288 with 1 Axes>"
            ]
          },
          "metadata": {
            "tags": []
          }
        }
      ]
    },
    {
      "cell_type": "code",
      "metadata": {
        "colab": {
          "base_uri": "https://localhost:8080/",
          "height": 299
        },
        "id": "gvGMKY5FEl0y",
        "outputId": "3075e7d6-f86a-4348-fa93-9ca4e1582738"
      },
      "source": [
        "var = 'tenure'\n",
        "data = customer_df[customer_df['RFMScore'].isin(rfm_list)][[var, 'customer_lifetime_value']]\n",
        "data.plot.scatter(x=var, y='customer_lifetime_value')"
      ],
      "execution_count": 51,
      "outputs": [
        {
          "output_type": "execute_result",
          "data": {
            "text/plain": [
              "<matplotlib.axes._subplots.AxesSubplot at 0x7fed4e8bc290>"
            ]
          },
          "metadata": {
            "tags": []
          },
          "execution_count": 51
        },
        {
          "output_type": "display_data",
          "data": {
            "image/png": "[encoded data removed]",
            "text/plain": [
              "<Figure size 432x288 with 1 Axes>"
            ]
          },
          "metadata": {
            "tags": []
          }
        }
      ]
    },
    {
      "cell_type": "markdown",
      "metadata": {
        "id": "syYnzry6Ezd-"
      },
      "source": [
        "All explorations shows no relation between the demographics data"
      ]
    },
    {
      "cell_type": "markdown",
      "metadata": {
        "id": "uQaHaYM8FtDH"
      },
      "source": [
        "# K-means Clustering"
      ]
    },
    {
      "cell_type": "code",
      "metadata": {
        "colab": {
          "base_uri": "https://localhost:8080/",
          "height": 303
        },
        "id": "F1k6OdQYEug3",
        "outputId": "7246a33b-a570-49a8-b188-a796dce28e9f"
      },
      "source": [
        "x = rfm_segmentation.iloc[:,1:]\n",
        "\n",
        "wcss = []\n",
        "\n",
        "for i in range(1, 11):\n",
        "    km = KMeans(n_clusters = i, init='k-means++', max_iter = 300, n_init = 10, random_state=1)\n",
        "    km.fit(x)\n",
        "    wcss.append(km.inertia_)\n",
        "    \n",
        "plt.plot(range(1,11), wcss)\n",
        "plt.title('The Elbow Method', fontsize=20)\n",
        "plt.xlabel('No. of Clusters')\n",
        "plt.ylabel('wcss')\n",
        "plt.show()"
      ],
      "execution_count": 52,
      "outputs": [
        {
          "output_type": "display_data",
          "data": {
            "image/png": "[encoded data removed]",
            "text/plain": [
              "<Figure size 432x288 with 1 Axes>"
            ]
          },
          "metadata": {
            "tags": []
          }
        }
      ]
    },
    {
      "cell_type": "markdown",
      "metadata": {
        "id": "QGoWzvYvGD7C"
      },
      "source": [
        "From the elbow chart we will select 5 as optimum no. of clusters. We may also consider 4 as elbow point"
      ]
    },
    {
      "cell_type": "code",
      "metadata": {
        "id": "hwTa0sCnFyg2"
      },
      "source": [
        "km = KMeans(n_clusters = 5, init='k-means++', max_iter = 500, n_init = 10, random_state = 1)\n",
        "y_means = km.fit_predict(x)\n",
        "\n",
        "y_label = pd.DataFrame(y_means)\n",
        "y_label.columns = ['cluster']\n",
        "y_label['cluster'] += 1\n",
        "\n",
        "customer_df1 = pd.concat([customer_df, y_label], axis=1)"
      ],
      "execution_count": 53,
      "outputs": []
    },
    {
      "cell_type": "code",
      "metadata": {
        "colab": {
          "base_uri": "https://localhost:8080/"
        },
        "id": "qwDAmlZ8Gijv",
        "outputId": "725a659b-2970-4ee4-aa04-1d31620e4d2a"
      },
      "source": [
        "print(customer_df1.groupby(['cluster'])['customer_id'].count())"
      ],
      "execution_count": 54,
      "outputs": [
        {
          "output_type": "stream",
          "text": [
            "cluster\n",
            "1    604\n",
            "2    694\n",
            "3    966\n",
            "4    254\n",
            "5    975\n",
            "Name: customer_id, dtype: int64\n"
          ],
          "name": "stdout"
        }
      ]
    },
    {
      "cell_type": "code",
      "metadata": {
        "colab": {
          "base_uri": "https://localhost:8080/",
          "height": 299
        },
        "id": "YFV-T-fSGuDo",
        "outputId": "0b0ec7b1-6475-43ef-f79d-ded931eb1ad4"
      },
      "source": [
        "var = 'cluster'\n",
        "data = pd.concat([customer_df1['list_price'], customer_df1[var]], axis=1)\n",
        "data.plot.scatter(y=var, x='list_price')"
      ],
      "execution_count": 55,
      "outputs": [
        {
          "output_type": "execute_result",
          "data": {
            "text/plain": [
              "<matplotlib.axes._subplots.AxesSubplot at 0x7fed58c2f890>"
            ]
          },
          "metadata": {
            "tags": []
          },
          "execution_count": 55
        },
        {
          "output_type": "display_data",
          "data": {
            "image/png": "[encoded data removed]",
            "text/plain": [
              "<Figure size 432x288 with 1 Axes>"
            ]
          },
          "metadata": {
            "tags": []
          }
        }
      ]
    },
    {
      "cell_type": "code",
      "metadata": {
        "colab": {
          "base_uri": "https://localhost:8080/",
          "height": 299
        },
        "id": "64cIuxytGvQc",
        "outputId": "4c601f96-f3f1-49f7-82e8-2fe1286792d8"
      },
      "source": [
        "var = 'cluster'\n",
        "data = pd.concat([customer_df1['profit'], customer_df1[var]], axis=1)\n",
        "data.plot.scatter(y=var, x='profit')"
      ],
      "execution_count": 56,
      "outputs": [
        {
          "output_type": "execute_result",
          "data": {
            "text/plain": [
              "<matplotlib.axes._subplots.AxesSubplot at 0x7fed586d6a10>"
            ]
          },
          "metadata": {
            "tags": []
          },
          "execution_count": 56
        },
        {
          "output_type": "display_data",
          "data": {
            "image/png": "[encoded data removed]",
            "text/plain": [
              "<Figure size 432x288 with 1 Axes>"
            ]
          },
          "metadata": {
            "tags": []
          }
        }
      ]
    },
    {
      "cell_type": "code",
      "metadata": {
        "colab": {
          "base_uri": "https://localhost:8080/",
          "height": 235
        },
        "id": "_dv-tIV0HX3B",
        "outputId": "fbdab32d-247b-47be-f09a-f40fa52c22e5"
      },
      "source": [
        "customer_df1.groupby(['cluster']).agg({'profit':'mean', 'customer_lifetime_value':'mean'})"
      ],
      "execution_count": 57,
      "outputs": [
        {
          "output_type": "execute_result",
          "data": {
            "text/html": [
              "<div>\n",
              "<style scoped>\n",
              "    .dataframe tbody tr th:only-of-type {\n",
              "        vertical-align: middle;\n",
              "    }\n",
              "\n",
              "    .dataframe tbody tr th {\n",
              "        vertical-align: top;\n",
              "    }\n",
              "\n",
              "    .dataframe thead th {\n",
              "        text-align: right;\n",
              "    }\n",
              "</style>\n",
              "<table border=\"1\" class=\"dataframe\">\n",
              "  <thead>\n",
              "    <tr style=\"text-align: right;\">\n",
              "      <th></th>\n",
              "      <th>profit</th>\n",
              "      <th>customer_lifetime_value</th>\n",
              "    </tr>\n",
              "    <tr>\n",
              "      <th>cluster</th>\n",
              "      <th></th>\n",
              "      <th></th>\n",
              "    </tr>\n",
              "  </thead>\n",
              "  <tbody>\n",
              "    <tr>\n",
              "      <th>1</th>\n",
              "      <td>3091.134735</td>\n",
              "      <td>97.761250</td>\n",
              "    </tr>\n",
              "    <tr>\n",
              "      <th>2</th>\n",
              "      <td>3070.381153</td>\n",
              "      <td>98.610787</td>\n",
              "    </tr>\n",
              "    <tr>\n",
              "      <th>3</th>\n",
              "      <td>3074.338406</td>\n",
              "      <td>88.782000</td>\n",
              "    </tr>\n",
              "    <tr>\n",
              "      <th>4</th>\n",
              "      <td>3225.056417</td>\n",
              "      <td>111.623696</td>\n",
              "    </tr>\n",
              "    <tr>\n",
              "      <th>5</th>\n",
              "      <td>3122.430174</td>\n",
              "      <td>90.607622</td>\n",
              "    </tr>\n",
              "  </tbody>\n",
              "</table>\n",
              "</div>"
            ],
            "text/plain": [
              "              profit  customer_lifetime_value\n",
              "cluster                                      \n",
              "1        3091.134735                97.761250\n",
              "2        3070.381153                98.610787\n",
              "3        3074.338406                88.782000\n",
              "4        3225.056417               111.623696\n",
              "5        3122.430174                90.607622"
            ]
          },
          "metadata": {
            "tags": []
          },
          "execution_count": 57
        }
      ]
    },
    {
      "cell_type": "markdown",
      "metadata": {
        "id": "0vKngpXD99Vx"
      },
      "source": [
        "# Data Preprocessing"
      ]
    },
    {
      "cell_type": "code",
      "metadata": {
        "id": "una3YgMjInJT"
      },
      "source": [
        "customer_df1['age'] = customer_df1['age'].fillna(round(customer_df1['age'].mean(), 0))\n",
        "customer_df1['tenure'] = customer_df1['tenure'].fillna(round(customer_df1['tenure'].mean(), 0))"
      ],
      "execution_count": 58,
      "outputs": []
    },
    {
      "cell_type": "code",
      "metadata": {
        "id": "GPNsGAzS81yI"
      },
      "source": [
        "customer_df1['past3Y_bike'] = pd.qcut(customer_df1['past_3_years_bike_related_purchases'],\n",
        "                              q=[0, .2, .4, .6, .8, 1], labels=['0-19', '20-38', '39-58', '59-78', '79-99'])\n",
        "\n",
        "customer_df1['tenure_bucket'] = pd.qcut(customer_df1['tenure'],\n",
        "                              q=[0, .2, .4, .6, .8, 1], labels=['1-5', '6-9', '10-12', '13-16', '17-22'])\n",
        "\n",
        "\n",
        "customer_df1['property_val'] = pd.qcut(customer_df1['property_valuation'],\n",
        "                              q=[0, .2, .4, .6, .8, 1], labels=['1-5', '6-7', '8-9', '10-10', '11-12'])\n",
        "\n",
        "customer_df1['age_bucket'] = pd.qcut(customer_df1['age'],\n",
        "                              q=[0, .2, .4, .6, .8, 1], labels=['0-31', '32-41', '42-46', '47-55', '56+'])"
      ],
      "execution_count": 59,
      "outputs": []
    },
    {
      "cell_type": "code",
      "metadata": {
        "id": "gIp-qtmG9IcS"
      },
      "source": [
        "customer_df1['job_title'] = customer_df1['job_title'].fillna('Unknown')\n",
        "customer_df1['job_industry_category'] = customer_df1['job_industry_category'].fillna('Unknown')\n",
        "\n",
        "customer_df1[['age_bucket','gender','job_title','job_industry_category','wealth_segment','owns_car','postcode','state','past3Y_bike','tenure_bucket','property_val']] = customer_df1[['age_bucket','gender','job_title','job_industry_category','wealth_segment','owns_car','postcode','state','past3Y_bike','tenure_bucket','property_val']].astype(str)"
      ],
      "execution_count": 60,
      "outputs": []
    },
    {
      "cell_type": "markdown",
      "metadata": {
        "id": "lXrzw4Vg-Z50"
      },
      "source": [
        "Label Encoding the categorical variables"
      ]
    },
    {
      "cell_type": "code",
      "metadata": {
        "id": "2vaT07vD9vL7"
      },
      "source": [
        "le = LabelEncoder()\n",
        "\n",
        "customer_df1['age_bucket_cat'] = le.fit_transform(customer_df1['age_bucket'])\n",
        "customer_df1['gender_cat'] = le.fit_transform(customer_df1['gender'])\n",
        "customer_df1['job_title_cat'] = le.fit_transform(customer_df1['job_title'])\n",
        "customer_df1['job_industry_category_cat'] = le.fit_transform(customer_df1['job_industry_category'])\n",
        "customer_df1['wealth_segment_cat'] = le.fit_transform(customer_df1['wealth_segment'])\n",
        "customer_df1['owns_car_cat'] = le.fit_transform(customer_df1['owns_car'])\n",
        "customer_df1['postcode_cat'] = le.fit_transform(customer_df1['postcode'])\n",
        "customer_df1['state_cat'] = le.fit_transform(customer_df1['state'])\n",
        "customer_df1['past3Y_bike_cat'] = le.fit_transform(customer_df1['past3Y_bike'])\n",
        "customer_df1['tenure_bucket_cat'] = le.fit_transform(customer_df1['tenure_bucket'])\n",
        "customer_df1['property_val_cat'] = le.fit_transform(customer_df1['property_val'])"
      ],
      "execution_count": 63,
      "outputs": []
    },
    {
      "cell_type": "code",
      "metadata": {
        "colab": {
          "base_uri": "https://localhost:8080/"
        },
        "id": "5qub86gV-GH4",
        "outputId": "6e279d18-5b4a-40bb-f1d8-28e0ff0c2927"
      },
      "source": [
        "customer_df1['segment'] = customer_df1['age_bucket'].map(str) + '_' + customer_df1['job_title'].map(str) + '_' + customer_df1['owns_car'].map(str) + '_' + customer_df1['postcode'].map(str) + '_' + customer_df1['past3Y_bike'].map(str) + '_' + customer_df1['tenure_bucket'].map(str) + '_' + customer_df1['property_val'].map(str)\n",
        "customer_df1['segment'].nunique()"
      ],
      "execution_count": 64,
      "outputs": [
        {
          "output_type": "execute_result",
          "data": {
            "text/plain": [
              "3494"
            ]
          },
          "metadata": {
            "tags": []
          },
          "execution_count": 64
        }
      ]
    },
    {
      "cell_type": "markdown",
      "metadata": {
        "id": "wQDGDrmb-zZf"
      },
      "source": [
        "This shows the discreteness of the data.\n",
        "All records of data are different and has no correlation between them.\n",
        "Such data cannot be trained using ML models unless we create a separate tree for each record.  "
      ]
    },
    {
      "cell_type": "markdown",
      "metadata": {
        "id": "yY7KHRYK_P9w"
      },
      "source": [
        "# Rule Based Collaborative Filtering"
      ]
    },
    {
      "cell_type": "code",
      "metadata": {
        "id": "sR8OxGiw-tg1"
      },
      "source": [
        "customer_df1['seg_map1'] = customer_df1['age_bucket_cat'].map(str) + \"_\" + customer_df1['gender_cat'].map(str) + \"_\" + customer_df1['job_title_cat'].map(str) + \"_\" + customer_df1['job_industry_category_cat'].map(str) + \"_\" + customer_df1['wealth_segment_cat'].map(str) + \"_\" + customer_df1['owns_car_cat'].map(str) + \"_\" + customer_df1['state_cat'].map(str) + \"_\" + customer_df1['past3Y_bike_cat'].map(str) + \"_\" + customer_df1['tenure_bucket_cat'].map(str) + \"_\" + customer_df1['property_val_cat'].map(str)\n",
        "customer_df1['seg_map2'] = customer_df1['age_bucket_cat'].map(str) + \"_\" + customer_df1['wealth_segment_cat'].map(str) + \"_\" + customer_df1['owns_car_cat'].map(str) + \"_\" + customer_df1['state_cat'].map(str) + \"_\" + customer_df1['past3Y_bike_cat'].map(str) + \"_\" + customer_df1['tenure_bucket_cat'].map(str) + \"_\" + customer_df1['property_val_cat'].map(str)\n",
        "customer_df1['seg_map3'] = customer_df1['age_bucket_cat'].map(str) + \"_\" + customer_df1['wealth_segment_cat'].map(str) + \"_\" + customer_df1['state_cat'].map(str) + \"_\" + customer_df1['past3Y_bike_cat'].map(str) + \"_\" + customer_df1['tenure_bucket_cat'].map(str) + \"_\" + customer_df1['property_val_cat'].map(str)\n",
        "customer_df1['seg_map4'] = customer_df1['age_bucket_cat'].map(str) + \"_\" + customer_df1['wealth_segment_cat'].map(str) + \"_\" + customer_df1['past3Y_bike_cat'].map(str) + \"_\" + customer_df1['tenure_bucket_cat'].map(str) + \"_\" + customer_df1['property_val_cat'].map(str)\n",
        "customer_df1['seg_map5'] = customer_df1['age_bucket_cat'].map(str) + \"_\" + customer_df1['past3Y_bike_cat'].map(str) + \"_\" + customer_df1['tenure_bucket_cat'].map(str) + \"_\" + customer_df1['property_val_cat'].map(str)\n",
        "customer_df1['seg_map6'] = customer_df1['age_bucket_cat'].map(str) + \"_\" + customer_df1['past3Y_bike_cat'].map(str) + \"_\" + customer_df1['tenure_bucket_cat'].map(str)\n",
        "customer_df1['seg_map7'] = customer_df1['age_bucket_cat'].map(str) + \"_\" + customer_df1['state_cat'].map(str) + \"_\" + customer_df1['past3Y_bike_cat'].map(str) + \"_\" + customer_df1['tenure_bucket_cat'].map(str) + \"_\" + customer_df1['property_val_cat'].map(str)\n",
        "customer_df1['seg_map8'] = customer_df1['state_cat'].map(str) + \"_\" + customer_df1['past3Y_bike_cat'].map(str) + \"_\" + customer_df1['tenure_bucket_cat'].map(str) + \"_\" + customer_df1['property_val_cat'].map(str)\n",
        "customer_df1['seg_map9'] = customer_df1['past3Y_bike_cat'].map(str) + \"_\" + customer_df1['property_val_cat'].map(str)\n"
      ],
      "execution_count": 65,
      "outputs": []
    },
    {
      "cell_type": "markdown",
      "metadata": {
        "id": "gtGTdqc-_g2m"
      },
      "source": [
        "Preprocessing Validation data (New Customer Data)"
      ]
    },
    {
      "cell_type": "code",
      "metadata": {
        "id": "k84Orccd_ZGN"
      },
      "source": [
        "new_cust_df = new_cust_df[['first_name','last_name','gender', 'past_3_years_bike_related_purchases', 'DOB', 'job_title', 'job_industry_category', 'wealth_segment', 'owns_car', 'tenure', 'postcode', 'state', 'property_valuation']]\n",
        "\n",
        "new_cust_df['age'] = (dt.datetime.now() - new_cust_df['DOB']).astype('<m8[Y]')\n",
        "#Cleaning Gender\n",
        "new_cust_df['gender'] = np.where(new_cust_df['gender'].isin(['M', 'Male']), 'Male', \n",
        "                                np.where(new_cust_df['gender'].isin(['F', 'Female', 'Femal']), 'Female','Unknown'))\n",
        "new_cust_df['gender'].unique()\n",
        "\n",
        "#Cleaning State\n",
        "new_cust_df['state'] = np.where(new_cust_df['state'].isin(['NSW', 'New South Wales']), 'NSW', \n",
        "                                np.where(new_cust_df['state'].isin(['VIC', 'Victoria']), 'VIC','QLD'))\n",
        "new_cust_df['state'].unique()\n",
        "\n",
        "new_cust_df['age'] = new_cust_df['age'].fillna(round(new_cust_df['age'].mean(), 0))\n",
        "new_cust_df['tenure'] = new_cust_df['tenure'].fillna(round(new_cust_df['tenure'].mean(), 0))"
      ],
      "execution_count": 66,
      "outputs": []
    },
    {
      "cell_type": "code",
      "metadata": {
        "id": "vEjHv_BC_nRV"
      },
      "source": [
        "new_cust_df['past3Y_bike'] = np.where(new_cust_df['past_3_years_bike_related_purchases'] <= 19, '0-19',\n",
        "                              \t      np.where((new_cust_df['past_3_years_bike_related_purchases'] >= 20) & (new_cust_df['past_3_years_bike_related_purchases'] <= 38), '20-38',\n",
        "                              \t      np.where((new_cust_df['past_3_years_bike_related_purchases'] >= 39) & (new_cust_df['past_3_years_bike_related_purchases'] <= 58), '39-58',\n",
        "                              \t      np.where((new_cust_df['past_3_years_bike_related_purchases'] >= 59) & (new_cust_df['past_3_years_bike_related_purchases'] <= 78), '59-78',\n",
        "                              \t      np.where((new_cust_df['past_3_years_bike_related_purchases'] >= 79), '79-99', 0)))))\n",
        "\n",
        "new_cust_df['tenure_bucket'] = np.where(new_cust_df['tenure'] <= 5, '1-5',\n",
        "                              \t      np.where((new_cust_df['tenure'] >= 6) & (new_cust_df['tenure'] <= 9), '6-9',\n",
        "                              \t      np.where((new_cust_df['tenure'] >= 10) & (new_cust_df['tenure'] <= 12), '10-12',\n",
        "                              \t      np.where((new_cust_df['tenure'] >= 13) & (new_cust_df['tenure'] <= 16), '13-16',\n",
        "                              \t      np.where((new_cust_df['tenure'] >= 17), '17-22', 0)))))\n",
        "\n",
        "new_cust_df['property_val'] = np.where(new_cust_df['property_valuation'] <= 5, '1-5',\n",
        "                              \t      np.where((new_cust_df['property_valuation'] >= 6) & (new_cust_df['property_valuation'] <= 7), '6-7',\n",
        "                              \t      np.where((new_cust_df['property_valuation'] >= 8) & (new_cust_df['property_valuation'] <= 9), '8-9',\n",
        "                              \t      np.where((new_cust_df['property_valuation'] == 10), '10-10',\n",
        "                              \t      np.where((new_cust_df['property_valuation'] >= 11), '11-12', 0)))))\n",
        "\n",
        "new_cust_df['age_bucket'] = np.where(new_cust_df['age'] <= 31, '1-31',\n",
        "                              \t      np.where((new_cust_df['age'] >= 32) & (new_cust_df['age'] <= 41), '32-41',\n",
        "                              \t      np.where((new_cust_df['age'] >= 42) & (new_cust_df['age'] <= 46), '42-46',\n",
        "                              \t      np.where((new_cust_df['age'] >= 47) & (new_cust_df['age'] <= 55), '47-55',\n",
        "                              \t      np.where((new_cust_df['age'] >= 56), '56+', 0)))))\n",
        "\n",
        "new_cust_df['job_title'] = new_cust_df['job_title'].fillna('Unknown')\n",
        "new_cust_df['job_industry_category'] = new_cust_df['job_industry_category'].fillna('Unknown')"
      ],
      "execution_count": 67,
      "outputs": []
    },
    {
      "cell_type": "code",
      "metadata": {
        "id": "wUAdrmNp_sqO"
      },
      "source": [
        "new_cust_df['age_bucket_cat'] = le.fit_transform(new_cust_df['age_bucket'])\n",
        "new_cust_df['gender_cat'] = le.fit_transform(new_cust_df['gender'])\n",
        "new_cust_df['job_title_cat'] = le.fit_transform(new_cust_df['job_title'])\n",
        "new_cust_df['job_industry_category_cat'] = le.fit_transform(new_cust_df['job_industry_category'])\n",
        "new_cust_df['wealth_segment_cat'] = le.fit_transform(new_cust_df['wealth_segment'])\n",
        "new_cust_df['owns_car_cat'] = le.fit_transform(new_cust_df['owns_car'])\n",
        "new_cust_df['postcode_cat'] = le.fit_transform(new_cust_df['postcode'])\n",
        "new_cust_df['state_cat'] = le.fit_transform(new_cust_df['state'])\n",
        "new_cust_df['past3Y_bike_cat'] = le.fit_transform(new_cust_df['past3Y_bike'])\n",
        "new_cust_df['tenure_bucket_cat'] = le.fit_transform(new_cust_df['tenure_bucket'])\n",
        "new_cust_df['property_val_cat'] = le.fit_transform(new_cust_df['property_val'])"
      ],
      "execution_count": 68,
      "outputs": []
    },
    {
      "cell_type": "code",
      "metadata": {
        "id": "fX7TPM8v_vkL"
      },
      "source": [
        "new_cust_df[['age_bucket','gender','job_title','job_industry_category','wealth_segment','owns_car','postcode','state','past3Y_bike','tenure_bucket','property_val']] = new_cust_df[['age_bucket','gender','job_title','job_industry_category','wealth_segment','owns_car','postcode','state','past3Y_bike','tenure_bucket','property_val']].astype(str)"
      ],
      "execution_count": 69,
      "outputs": []
    },
    {
      "cell_type": "code",
      "metadata": {
        "id": "_E3kDLIZ_x3M"
      },
      "source": [
        "new_cust_df['seg_map1'] = new_cust_df['age_bucket_cat'].map(str) + \"_\" + new_cust_df['gender_cat'].map(str) + \"_\" + new_cust_df['job_title_cat'].map(str) + \"_\" + new_cust_df['job_industry_category_cat'].map(str) + \"_\" + new_cust_df['wealth_segment_cat'].map(str) + \"_\" + new_cust_df['owns_car_cat'].map(str) + \"_\" + new_cust_df['state_cat'].map(str) + \"_\" + new_cust_df['past3Y_bike_cat'].map(str) + \"_\" + new_cust_df['tenure_bucket_cat'].map(str) + \"_\" + new_cust_df['property_val_cat'].map(str)\n",
        "new_cust_df['seg_map2'] = new_cust_df['age_bucket_cat'].map(str) + \"_\" + new_cust_df['wealth_segment_cat'].map(str) + \"_\" + new_cust_df['owns_car_cat'].map(str) + \"_\" + new_cust_df['state_cat'].map(str) + \"_\" + new_cust_df['past3Y_bike_cat'].map(str) + \"_\" + new_cust_df['tenure_bucket_cat'].map(str) + \"_\" + new_cust_df['property_val_cat'].map(str)\n",
        "new_cust_df['seg_map3'] = new_cust_df['age_bucket_cat'].map(str) + \"_\" + new_cust_df['wealth_segment_cat'].map(str) + \"_\" + new_cust_df['state_cat'].map(str) + \"_\" + new_cust_df['past3Y_bike_cat'].map(str) + \"_\" + new_cust_df['tenure_bucket_cat'].map(str) + \"_\" + new_cust_df['property_val_cat'].map(str)\n",
        "new_cust_df['seg_map4'] = new_cust_df['age_bucket_cat'].map(str) + \"_\" + new_cust_df['wealth_segment_cat'].map(str) + \"_\" + new_cust_df['past3Y_bike_cat'].map(str) + \"_\" + new_cust_df['tenure_bucket_cat'].map(str) + \"_\" + new_cust_df['property_val_cat'].map(str)\n",
        "new_cust_df['seg_map5'] = new_cust_df['age_bucket_cat'].map(str) + \"_\" + new_cust_df['past3Y_bike_cat'].map(str) + \"_\" + new_cust_df['tenure_bucket_cat'].map(str) + \"_\" + new_cust_df['property_val_cat'].map(str)\n",
        "new_cust_df['seg_map6'] = new_cust_df['age_bucket_cat'].map(str) + \"_\" + new_cust_df['past3Y_bike_cat'].map(str) + \"_\" + new_cust_df['tenure_bucket_cat'].map(str)\n",
        "new_cust_df['seg_map7'] = new_cust_df['age_bucket_cat'].map(str) + \"_\" + new_cust_df['state_cat'].map(str) + \"_\" + new_cust_df['past3Y_bike_cat'].map(str) + \"_\" + new_cust_df['tenure_bucket_cat'].map(str) + \"_\" + new_cust_df['property_val_cat'].map(str)\n",
        "new_cust_df['seg_map8'] = new_cust_df['state_cat'].map(str) + \"_\" + new_cust_df['past3Y_bike_cat'].map(str) + \"_\" + new_cust_df['tenure_bucket_cat'].map(str) + \"_\" + new_cust_df['property_val_cat'].map(str)\n",
        "new_cust_df['seg_map9'] = new_cust_df['past3Y_bike_cat'].map(str) + \"_\" + new_cust_df['property_val_cat'].map(str)"
      ],
      "execution_count": 70,
      "outputs": []
    },
    {
      "cell_type": "code",
      "metadata": {
        "id": "bk03Atlc_0Mt"
      },
      "source": [
        "new_cust_cluster = pd.DataFrame()\n",
        "seg_items = ['seg_map1', 'seg_map2', 'seg_map3', 'seg_map4', 'seg_map5', 'seg_map6', 'seg_map7', 'seg_map8', 'seg_map9']"
      ],
      "execution_count": 71,
      "outputs": []
    },
    {
      "cell_type": "code",
      "metadata": {
        "id": "2BuchYCV_2jy"
      },
      "source": [
        "for k in seg_items: \n",
        "    #Seg1\n",
        "    customer_cluster = customer_df1[[k, 'cluster', 'customer_id']].reset_index(drop=True)\n",
        "    customer_cluster.sort_values(by=[k, 'cluster'], inplace=True)\n",
        "    customer_cluster = customer_cluster.groupby([k,'cluster'], as_index=False)['customer_id'].count()\n",
        "    customer_cluster.rename(columns={'customer_id':'cnt'}, inplace=True)\n",
        "    customer_cluster['rank'] = customer_cluster.groupby([k,'cluster'])['cnt'].rank(ascending=0)\n",
        "    customer_cluster = customer_cluster[customer_cluster['rank'] == 1].reset_index(drop=True)\n",
        "  \n",
        "    new_cust_df = pd.merge(new_cust_df,customer_cluster[[k, 'cluster']], on=k, how='left')\n",
        "    \n",
        "    temp = new_cust_df[~(new_cust_df['cluster'].isna())].reset_index(drop=True)\n",
        "    new_cust_df = new_cust_df[new_cust_df['cluster'].isna()].reset_index(drop=True)\n",
        "    new_cust_df.drop(columns={'cluster'}, inplace=True)\n",
        "    \n",
        "    new_cust_cluster = pd.concat([new_cust_cluster, temp], axis=0)"
      ],
      "execution_count": 72,
      "outputs": []
    },
    {
      "cell_type": "code",
      "metadata": {
        "id": "tYzHMmj5AEpv"
      },
      "source": [
        "new_cust_cluster = new_cust_cluster.sort_values(by=['first_name','last_name', 'cluster'], ascending=[True, True, False])\n",
        "new_cust_cluster = new_cust_cluster.drop_duplicates(subset=['first_name','last_name', 'age'], keep='first')"
      ],
      "execution_count": 73,
      "outputs": []
    },
    {
      "cell_type": "code",
      "metadata": {
        "colab": {
          "base_uri": "https://localhost:8080/"
        },
        "id": "DTYG_fAjAH_s",
        "outputId": "236932f5-8338-4be3-c789-ea6ddc8fd398"
      },
      "source": [
        "new_cust_cluster.groupby('cluster')['first_name'].count()"
      ],
      "execution_count": 74,
      "outputs": [
        {
          "output_type": "execute_result",
          "data": {
            "text/plain": [
              "cluster\n",
              "1.0    123\n",
              "2.0    143\n",
              "3.0    252\n",
              "4.0     63\n",
              "5.0    419\n",
              "Name: first_name, dtype: int64"
            ]
          },
          "metadata": {
            "tags": []
          },
          "execution_count": 74
        }
      ]
    },
    {
      "cell_type": "code",
      "metadata": {
        "id": "l7Gxu1rZAJhs"
      },
      "source": [
        ""
      ],
      "execution_count": null,
      "outputs": []
    }
  ]
}