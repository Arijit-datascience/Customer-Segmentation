{
  "nbformat": 4,
  "nbformat_minor": 0,
  "metadata": {
    "colab": {
      "name": "customer segmentation.ipynb",
      "provenance": [],
      "collapsed_sections": [],
      "toc_visible": true,
      "mount_file_id": "1LDoMcqCi-lWbxEbzw6MUHkCVP-Azb2ff",
      "authorship_tag": "ABX9TyMDVz5HEIQwOL2lgTmtWhPn",
      "include_colab_link": true
    },
    "kernelspec": {
      "name": "python3",
      "display_name": "Python 3"
    },
    "language_info": {
      "name": "python"
    }
  },
  "cells": [
    {
      "cell_type": "markdown",
      "metadata": {
        "id": "view-in-github",
        "colab_type": "text"
      },
      "source": [
        "<a href=\"https://colab.research.google.com/github/Arijit-datascience/Customer-Segmentation/blob/main/customer_segmentation.ipynb\" target=\"_parent\"><img src=\"https://colab.research.google.com/assets/colab-badge.svg\" alt=\"Open In Colab\"/></a>"
      ]
    },
    {
      "cell_type": "markdown",
      "metadata": {
        "id": "pAMMcl450KQT"
      },
      "source": [
        "Customer Segmentation"
      ]
    },
    {
      "cell_type": "markdown",
      "metadata": {
        "id": "oHhDtQGv4_lq"
      },
      "source": [
        "# Importing necessary library "
      ]
    },
    {
      "cell_type": "code",
      "metadata": {
        "id": "NitGAFFtWAMQ"
      },
      "source": [
        "import pandas as pd\n",
        "import numpy as np\n",
        "import math\n",
        "from datetime import datetime\n",
        "import seaborn as sns\n",
        "import matplotlib.pyplot as plt"
      ],
      "execution_count": 1,
      "outputs": []
    },
    {
      "cell_type": "code",
      "metadata": {
        "colab": {
          "base_uri": "https://localhost:8080/"
        },
        "id": "Tb45uk8z3oss",
        "outputId": "1d26584b-2650-4ee6-92e3-25a3dc7f704e"
      },
      "source": [
        "!pip install category_encoders"
      ],
      "execution_count": 9,
      "outputs": [
        {
          "output_type": "stream",
          "text": [
            "Collecting category_encoders\n",
            "\u001b[?25l  Downloading https://files.pythonhosted.org/packages/44/57/fcef41c248701ee62e8325026b90c432adea35555cbc870aff9cfba23727/category_encoders-2.2.2-py2.py3-none-any.whl (80kB)\n",
            "\r\u001b[K     |████                            | 10kB 14.0MB/s eta 0:00:01\r\u001b[K     |████████▏                       | 20kB 20.2MB/s eta 0:00:01\r\u001b[K     |████████████▏                   | 30kB 24.4MB/s eta 0:00:01\r\u001b[K     |████████████████▎               | 40kB 27.7MB/s eta 0:00:01\r\u001b[K     |████████████████████▎           | 51kB 19.0MB/s eta 0:00:01\r\u001b[K     |████████████████████████▍       | 61kB 12.2MB/s eta 0:00:01\r\u001b[K     |████████████████████████████▍   | 71kB 13.3MB/s eta 0:00:01\r\u001b[K     |████████████████████████████████| 81kB 5.5MB/s \n",
            "\u001b[?25hRequirement already satisfied: patsy>=0.5.1 in /usr/local/lib/python3.7/dist-packages (from category_encoders) (0.5.1)\n",
            "Requirement already satisfied: scipy>=1.0.0 in /usr/local/lib/python3.7/dist-packages (from category_encoders) (1.4.1)\n",
            "Requirement already satisfied: numpy>=1.14.0 in /usr/local/lib/python3.7/dist-packages (from category_encoders) (1.19.5)\n",
            "Requirement already satisfied: scikit-learn>=0.20.0 in /usr/local/lib/python3.7/dist-packages (from category_encoders) (0.22.2.post1)\n",
            "Requirement already satisfied: statsmodels>=0.9.0 in /usr/local/lib/python3.7/dist-packages (from category_encoders) (0.10.2)\n",
            "Requirement already satisfied: pandas>=0.21.1 in /usr/local/lib/python3.7/dist-packages (from category_encoders) (1.1.5)\n",
            "Requirement already satisfied: six in /usr/local/lib/python3.7/dist-packages (from patsy>=0.5.1->category_encoders) (1.15.0)\n",
            "Requirement already satisfied: joblib>=0.11 in /usr/local/lib/python3.7/dist-packages (from scikit-learn>=0.20.0->category_encoders) (1.0.1)\n",
            "Requirement already satisfied: pytz>=2017.2 in /usr/local/lib/python3.7/dist-packages (from pandas>=0.21.1->category_encoders) (2018.9)\n",
            "Requirement already satisfied: python-dateutil>=2.7.3 in /usr/local/lib/python3.7/dist-packages (from pandas>=0.21.1->category_encoders) (2.8.1)\n",
            "Installing collected packages: category-encoders\n",
            "Successfully installed category-encoders-2.2.2\n"
          ],
          "name": "stdout"
        }
      ]
    },
    {
      "cell_type": "code",
      "metadata": {
        "colab": {
          "base_uri": "https://localhost:8080/"
        },
        "id": "m0tgZDydTy-l",
        "outputId": "81fbc532-867c-4a91-c347-71f8dde62944"
      },
      "source": [
        "import datetime as dt\n",
        "import category_encoders as ce\n",
        "from sklearn.model_selection import train_test_split\n",
        "from sklearn.preprocessing import MinMaxScaler\n",
        "\n",
        "from sklearn.metrics import roc_curve, auc\n",
        "from sklearn.metrics import confusion_matrix\n",
        "from sklearn.metrics import classification_report\n",
        "from sklearn.model_selection import KFold, cross_val_score\n",
        "from sklearn.model_selection import train_test_split, GridSearchCV\n",
        "from sklearn.ensemble import RandomForestClassifier \n",
        "from sklearn.metrics import accuracy_score\n",
        "\n",
        "import time"
      ],
      "execution_count": 10,
      "outputs": [
        {
          "output_type": "stream",
          "text": [
            "/usr/local/lib/python3.7/dist-packages/statsmodels/tools/_testing.py:19: FutureWarning: pandas.util.testing is deprecated. Use the functions in the public API at pandas.testing instead.\n",
            "  import pandas.util.testing as tm\n"
          ],
          "name": "stderr"
        }
      ]
    },
    {
      "cell_type": "code",
      "metadata": {
        "id": "iCkY71GH30og"
      },
      "source": [
        "plt.style.use('ggplot')\n",
        "pd.set_option('display.max_columns', 500)"
      ],
      "execution_count": 11,
      "outputs": []
    },
    {
      "cell_type": "markdown",
      "metadata": {
        "id": "dSJ7Z__v0gnU"
      },
      "source": [
        "#Reading Data"
      ]
    },
    {
      "cell_type": "code",
      "metadata": {
        "colab": {
          "base_uri": "https://localhost:8080/"
        },
        "id": "B2b1xQIZ1gfV",
        "outputId": "dbf411ca-c8d5-41cd-cfd1-07e7375ab553"
      },
      "source": [
        "from google.colab import drive\n",
        "drive.mount('/content/drive')"
      ],
      "execution_count": 6,
      "outputs": [
        {
          "output_type": "stream",
          "text": [
            "Drive already mounted at /content/drive; to attempt to forcibly remount, call drive.mount(\"/content/drive\", force_remount=True).\n"
          ],
          "name": "stdout"
        }
      ]
    },
    {
      "cell_type": "markdown",
      "metadata": {
        "id": "-bGempDo4WST"
      },
      "source": [
        "## Transaction Data..."
      ]
    },
    {
      "cell_type": "code",
      "metadata": {
        "colab": {
          "base_uri": "https://localhost:8080/",
          "height": 292
        },
        "id": "096H0eJiUv9r",
        "outputId": "8522302a-9cf9-4890-b793-e396744807bc"
      },
      "source": [
        "transaction_df = pd.read_excel('/content/drive/MyDrive/Colab Notebooks/Raw data.xlsx', sheet_name='Transaction')\n",
        "transaction_df.drop(columns={'Check'}, inplace=True)\n",
        "transaction_df.head()"
      ],
      "execution_count": 7,
      "outputs": [
        {
          "output_type": "execute_result",
          "data": {
            "text/html": [
              "<div>\n",
              "<style scoped>\n",
              "    .dataframe tbody tr th:only-of-type {\n",
              "        vertical-align: middle;\n",
              "    }\n",
              "\n",
              "    .dataframe tbody tr th {\n",
              "        vertical-align: top;\n",
              "    }\n",
              "\n",
              "    .dataframe thead th {\n",
              "        text-align: right;\n",
              "    }\n",
              "</style>\n",
              "<table border=\"1\" class=\"dataframe\">\n",
              "  <thead>\n",
              "    <tr style=\"text-align: right;\">\n",
              "      <th></th>\n",
              "      <th>transaction_id</th>\n",
              "      <th>product_id</th>\n",
              "      <th>customer_id</th>\n",
              "      <th>transaction_date</th>\n",
              "      <th>online_order</th>\n",
              "      <th>order_status</th>\n",
              "      <th>brand</th>\n",
              "      <th>product_line</th>\n",
              "      <th>product_class</th>\n",
              "      <th>product_size</th>\n",
              "      <th>list_price</th>\n",
              "      <th>standard_cost</th>\n",
              "      <th>product_first_sold_date</th>\n",
              "    </tr>\n",
              "  </thead>\n",
              "  <tbody>\n",
              "    <tr>\n",
              "      <th>0</th>\n",
              "      <td>1</td>\n",
              "      <td>2</td>\n",
              "      <td>2950</td>\n",
              "      <td>2017-02-25</td>\n",
              "      <td>0.0</td>\n",
              "      <td>Approved</td>\n",
              "      <td>Solex</td>\n",
              "      <td>Standard</td>\n",
              "      <td>medium</td>\n",
              "      <td>medium</td>\n",
              "      <td>71.49</td>\n",
              "      <td>53.62</td>\n",
              "      <td>2012-12-02</td>\n",
              "    </tr>\n",
              "    <tr>\n",
              "      <th>1</th>\n",
              "      <td>2</td>\n",
              "      <td>3</td>\n",
              "      <td>3120</td>\n",
              "      <td>2017-05-21</td>\n",
              "      <td>1.0</td>\n",
              "      <td>Approved</td>\n",
              "      <td>Trek Bicycles</td>\n",
              "      <td>Standard</td>\n",
              "      <td>medium</td>\n",
              "      <td>large</td>\n",
              "      <td>2091.47</td>\n",
              "      <td>388.92</td>\n",
              "      <td>2014-03-03</td>\n",
              "    </tr>\n",
              "    <tr>\n",
              "      <th>2</th>\n",
              "      <td>3</td>\n",
              "      <td>37</td>\n",
              "      <td>402</td>\n",
              "      <td>2017-10-16</td>\n",
              "      <td>0.0</td>\n",
              "      <td>Approved</td>\n",
              "      <td>OHM Cycles</td>\n",
              "      <td>Standard</td>\n",
              "      <td>low</td>\n",
              "      <td>medium</td>\n",
              "      <td>1793.43</td>\n",
              "      <td>248.82</td>\n",
              "      <td>1999-07-20</td>\n",
              "    </tr>\n",
              "    <tr>\n",
              "      <th>3</th>\n",
              "      <td>4</td>\n",
              "      <td>88</td>\n",
              "      <td>3135</td>\n",
              "      <td>2017-08-31</td>\n",
              "      <td>0.0</td>\n",
              "      <td>Approved</td>\n",
              "      <td>Norco Bicycles</td>\n",
              "      <td>Standard</td>\n",
              "      <td>medium</td>\n",
              "      <td>medium</td>\n",
              "      <td>1198.46</td>\n",
              "      <td>381.10</td>\n",
              "      <td>1998-12-16</td>\n",
              "    </tr>\n",
              "    <tr>\n",
              "      <th>4</th>\n",
              "      <td>5</td>\n",
              "      <td>78</td>\n",
              "      <td>787</td>\n",
              "      <td>2017-10-01</td>\n",
              "      <td>1.0</td>\n",
              "      <td>Approved</td>\n",
              "      <td>Giant Bicycles</td>\n",
              "      <td>Standard</td>\n",
              "      <td>medium</td>\n",
              "      <td>large</td>\n",
              "      <td>1765.30</td>\n",
              "      <td>709.48</td>\n",
              "      <td>2015-08-10</td>\n",
              "    </tr>\n",
              "  </tbody>\n",
              "</table>\n",
              "</div>"
            ],
            "text/plain": [
              "   transaction_id  product_id  ...  standard_cost product_first_sold_date\n",
              "0               1           2  ...          53.62              2012-12-02\n",
              "1               2           3  ...         388.92              2014-03-03\n",
              "2               3          37  ...         248.82              1999-07-20\n",
              "3               4          88  ...         381.10              1998-12-16\n",
              "4               5          78  ...         709.48              2015-08-10\n",
              "\n",
              "[5 rows x 13 columns]"
            ]
          },
          "metadata": {
            "tags": []
          },
          "execution_count": 7
        }
      ]
    },
    {
      "cell_type": "markdown",
      "metadata": {
        "id": "B6DrXCjm4eWD"
      },
      "source": [
        "## Demographics data"
      ]
    },
    {
      "cell_type": "code",
      "metadata": {
        "colab": {
          "base_uri": "https://localhost:8080/",
          "height": 309
        },
        "id": "0lyHVRGIVGzc",
        "outputId": "efca8ae3-9347-4ee3-80ff-03ae30bbec86"
      },
      "source": [
        "demog_df = pd.read_excel('/content/drive/MyDrive/Colab Notebooks/Raw data.xlsx', sheet_name='CustomerDemographic')\n",
        "demog_df.drop(columns={'default'}, inplace=True)\n",
        "demog_df.head()"
      ],
      "execution_count": 14,
      "outputs": [
        {
          "output_type": "execute_result",
          "data": {
            "text/html": [
              "<div>\n",
              "<style scoped>\n",
              "    .dataframe tbody tr th:only-of-type {\n",
              "        vertical-align: middle;\n",
              "    }\n",
              "\n",
              "    .dataframe tbody tr th {\n",
              "        vertical-align: top;\n",
              "    }\n",
              "\n",
              "    .dataframe thead th {\n",
              "        text-align: right;\n",
              "    }\n",
              "</style>\n",
              "<table border=\"1\" class=\"dataframe\">\n",
              "  <thead>\n",
              "    <tr style=\"text-align: right;\">\n",
              "      <th></th>\n",
              "      <th>customer_id</th>\n",
              "      <th>first_name</th>\n",
              "      <th>last_name</th>\n",
              "      <th>gender</th>\n",
              "      <th>past_3_years_bike_related_purchases</th>\n",
              "      <th>DOB</th>\n",
              "      <th>job_title</th>\n",
              "      <th>job_industry_category</th>\n",
              "      <th>wealth_segment</th>\n",
              "      <th>deceased_indicator</th>\n",
              "      <th>owns_car</th>\n",
              "      <th>tenure</th>\n",
              "    </tr>\n",
              "  </thead>\n",
              "  <tbody>\n",
              "    <tr>\n",
              "      <th>0</th>\n",
              "      <td>34</td>\n",
              "      <td>Jephthah</td>\n",
              "      <td>Bachmann</td>\n",
              "      <td>U</td>\n",
              "      <td>59</td>\n",
              "      <td>1843-12-21</td>\n",
              "      <td>Legal Assistant</td>\n",
              "      <td>IT</td>\n",
              "      <td>Affluent Customer</td>\n",
              "      <td>N</td>\n",
              "      <td>No</td>\n",
              "      <td>20.0</td>\n",
              "    </tr>\n",
              "    <tr>\n",
              "      <th>1</th>\n",
              "      <td>66</td>\n",
              "      <td>Anselm</td>\n",
              "      <td>Gawne</td>\n",
              "      <td>Male</td>\n",
              "      <td>46</td>\n",
              "      <td>2002-03-11</td>\n",
              "      <td>Account Executive</td>\n",
              "      <td>Argiculture</td>\n",
              "      <td>High Net Worth</td>\n",
              "      <td>N</td>\n",
              "      <td>No</td>\n",
              "      <td>1.0</td>\n",
              "    </tr>\n",
              "    <tr>\n",
              "      <th>2</th>\n",
              "      <td>1888</td>\n",
              "      <td>Sibyl</td>\n",
              "      <td>Scholtz</td>\n",
              "      <td>Female</td>\n",
              "      <td>67</td>\n",
              "      <td>2002-01-26</td>\n",
              "      <td>Food Chemist</td>\n",
              "      <td>Health</td>\n",
              "      <td>Mass Customer</td>\n",
              "      <td>N</td>\n",
              "      <td>Yes</td>\n",
              "      <td>1.0</td>\n",
              "    </tr>\n",
              "    <tr>\n",
              "      <th>3</th>\n",
              "      <td>3435</td>\n",
              "      <td>Stevena</td>\n",
              "      <td>Allcock</td>\n",
              "      <td>Female</td>\n",
              "      <td>80</td>\n",
              "      <td>2002-01-15</td>\n",
              "      <td>Senior Editor</td>\n",
              "      <td>NaN</td>\n",
              "      <td>Affluent Customer</td>\n",
              "      <td>N</td>\n",
              "      <td>No</td>\n",
              "      <td>1.0</td>\n",
              "    </tr>\n",
              "    <tr>\n",
              "      <th>4</th>\n",
              "      <td>2858</td>\n",
              "      <td>Benedicto</td>\n",
              "      <td>Radki</td>\n",
              "      <td>Male</td>\n",
              "      <td>4</td>\n",
              "      <td>2002-01-09</td>\n",
              "      <td>Recruiting Manager</td>\n",
              "      <td>NaN</td>\n",
              "      <td>Mass Customer</td>\n",
              "      <td>N</td>\n",
              "      <td>Yes</td>\n",
              "      <td>1.0</td>\n",
              "    </tr>\n",
              "  </tbody>\n",
              "</table>\n",
              "</div>"
            ],
            "text/plain": [
              "   customer_id first_name last_name  gender  \\\n",
              "0           34   Jephthah  Bachmann       U   \n",
              "1           66     Anselm     Gawne    Male   \n",
              "2         1888      Sibyl   Scholtz  Female   \n",
              "3         3435    Stevena   Allcock  Female   \n",
              "4         2858  Benedicto     Radki    Male   \n",
              "\n",
              "   past_3_years_bike_related_purchases        DOB           job_title  \\\n",
              "0                                   59 1843-12-21     Legal Assistant   \n",
              "1                                   46 2002-03-11   Account Executive   \n",
              "2                                   67 2002-01-26        Food Chemist   \n",
              "3                                   80 2002-01-15       Senior Editor   \n",
              "4                                    4 2002-01-09  Recruiting Manager   \n",
              "\n",
              "  job_industry_category     wealth_segment deceased_indicator owns_car  tenure  \n",
              "0                    IT  Affluent Customer                  N       No    20.0  \n",
              "1           Argiculture     High Net Worth                  N       No     1.0  \n",
              "2                Health      Mass Customer                  N      Yes     1.0  \n",
              "3                   NaN  Affluent Customer                  N       No     1.0  \n",
              "4                   NaN      Mass Customer                  N      Yes     1.0  "
            ]
          },
          "metadata": {
            "tags": []
          },
          "execution_count": 14
        }
      ]
    },
    {
      "cell_type": "markdown",
      "metadata": {
        "id": "cNSFuQt84iVu"
      },
      "source": [
        "## Address data"
      ]
    },
    {
      "cell_type": "code",
      "metadata": {
        "colab": {
          "base_uri": "https://localhost:8080/",
          "height": 204
        },
        "id": "A5O-gSc_3-Vw",
        "outputId": "07c1576c-ea2d-4105-853e-d1993ac22453"
      },
      "source": [
        "add_df = pd.read_excel('/content/drive/MyDrive/Colab Notebooks/Raw data.xlsx', sheet_name='CustomerAddress')\n",
        "add_df.head()"
      ],
      "execution_count": 16,
      "outputs": [
        {
          "output_type": "execute_result",
          "data": {
            "text/html": [
              "<div>\n",
              "<style scoped>\n",
              "    .dataframe tbody tr th:only-of-type {\n",
              "        vertical-align: middle;\n",
              "    }\n",
              "\n",
              "    .dataframe tbody tr th {\n",
              "        vertical-align: top;\n",
              "    }\n",
              "\n",
              "    .dataframe thead th {\n",
              "        text-align: right;\n",
              "    }\n",
              "</style>\n",
              "<table border=\"1\" class=\"dataframe\">\n",
              "  <thead>\n",
              "    <tr style=\"text-align: right;\">\n",
              "      <th></th>\n",
              "      <th>customer_id</th>\n",
              "      <th>address</th>\n",
              "      <th>postcode</th>\n",
              "      <th>state</th>\n",
              "      <th>country</th>\n",
              "      <th>property_valuation</th>\n",
              "    </tr>\n",
              "  </thead>\n",
              "  <tbody>\n",
              "    <tr>\n",
              "      <th>0</th>\n",
              "      <td>1</td>\n",
              "      <td>060 Morning Avenue</td>\n",
              "      <td>2016</td>\n",
              "      <td>New South Wales</td>\n",
              "      <td>Australia</td>\n",
              "      <td>10</td>\n",
              "    </tr>\n",
              "    <tr>\n",
              "      <th>1</th>\n",
              "      <td>2</td>\n",
              "      <td>6 Meadow Vale Court</td>\n",
              "      <td>2153</td>\n",
              "      <td>New South Wales</td>\n",
              "      <td>Australia</td>\n",
              "      <td>10</td>\n",
              "    </tr>\n",
              "    <tr>\n",
              "      <th>2</th>\n",
              "      <td>4</td>\n",
              "      <td>0 Holy Cross Court</td>\n",
              "      <td>4211</td>\n",
              "      <td>QLD</td>\n",
              "      <td>Australia</td>\n",
              "      <td>9</td>\n",
              "    </tr>\n",
              "    <tr>\n",
              "      <th>3</th>\n",
              "      <td>5</td>\n",
              "      <td>17979 Del Mar Point</td>\n",
              "      <td>2448</td>\n",
              "      <td>New South Wales</td>\n",
              "      <td>Australia</td>\n",
              "      <td>4</td>\n",
              "    </tr>\n",
              "    <tr>\n",
              "      <th>4</th>\n",
              "      <td>6</td>\n",
              "      <td>9 Oakridge Court</td>\n",
              "      <td>3216</td>\n",
              "      <td>VIC</td>\n",
              "      <td>Australia</td>\n",
              "      <td>9</td>\n",
              "    </tr>\n",
              "  </tbody>\n",
              "</table>\n",
              "</div>"
            ],
            "text/plain": [
              "   customer_id              address  postcode            state    country  \\\n",
              "0            1   060 Morning Avenue      2016  New South Wales  Australia   \n",
              "1            2  6 Meadow Vale Court      2153  New South Wales  Australia   \n",
              "2            4   0 Holy Cross Court      4211              QLD  Australia   \n",
              "3            5  17979 Del Mar Point      2448  New South Wales  Australia   \n",
              "4            6     9 Oakridge Court      3216              VIC  Australia   \n",
              "\n",
              "   property_valuation  \n",
              "0                  10  \n",
              "1                  10  \n",
              "2                   9  \n",
              "3                   4  \n",
              "4                   9  "
            ]
          },
          "metadata": {
            "tags": []
          },
          "execution_count": 16
        }
      ]
    },
    {
      "cell_type": "markdown",
      "metadata": {
        "id": "-lma_L4G4wDd"
      },
      "source": [
        "## New Customer data"
      ]
    },
    {
      "cell_type": "code",
      "metadata": {
        "colab": {
          "base_uri": "https://localhost:8080/",
          "height": 394
        },
        "id": "N82pwuUA4M9z",
        "outputId": "72dd5014-aff3-4d7a-f700-c6a7be540378"
      },
      "source": [
        "new_cust_df = pd.read_excel('/content/drive/MyDrive/Colab Notebooks/Raw data.xlsx', sheet_name='NewCustomerList')\n",
        "new_cust_df.head()\n"
      ],
      "execution_count": 17,
      "outputs": [
        {
          "output_type": "execute_result",
          "data": {
            "text/html": [
              "<div>\n",
              "<style scoped>\n",
              "    .dataframe tbody tr th:only-of-type {\n",
              "        vertical-align: middle;\n",
              "    }\n",
              "\n",
              "    .dataframe tbody tr th {\n",
              "        vertical-align: top;\n",
              "    }\n",
              "\n",
              "    .dataframe thead th {\n",
              "        text-align: right;\n",
              "    }\n",
              "</style>\n",
              "<table border=\"1\" class=\"dataframe\">\n",
              "  <thead>\n",
              "    <tr style=\"text-align: right;\">\n",
              "      <th></th>\n",
              "      <th>first_name</th>\n",
              "      <th>last_name</th>\n",
              "      <th>gender</th>\n",
              "      <th>past_3_years_bike_related_purchases</th>\n",
              "      <th>DOB</th>\n",
              "      <th>job_title</th>\n",
              "      <th>job_industry_category</th>\n",
              "      <th>wealth_segment</th>\n",
              "      <th>deceased_indicator</th>\n",
              "      <th>owns_car</th>\n",
              "      <th>tenure</th>\n",
              "      <th>address</th>\n",
              "      <th>postcode</th>\n",
              "      <th>state</th>\n",
              "      <th>country</th>\n",
              "      <th>property_valuation</th>\n",
              "      <th>Unnamed: 16</th>\n",
              "      <th>Unnamed: 17</th>\n",
              "      <th>Unnamed: 18</th>\n",
              "      <th>Unnamed: 19</th>\n",
              "      <th>Unnamed: 20</th>\n",
              "      <th>Rank</th>\n",
              "      <th>Value</th>\n",
              "    </tr>\n",
              "  </thead>\n",
              "  <tbody>\n",
              "    <tr>\n",
              "      <th>0</th>\n",
              "      <td>Chickie</td>\n",
              "      <td>Brister</td>\n",
              "      <td>Male</td>\n",
              "      <td>86</td>\n",
              "      <td>1957-07-12</td>\n",
              "      <td>General Manager</td>\n",
              "      <td>Manufacturing</td>\n",
              "      <td>Mass Customer</td>\n",
              "      <td>N</td>\n",
              "      <td>Yes</td>\n",
              "      <td>14</td>\n",
              "      <td>45 Shopko Center</td>\n",
              "      <td>4500</td>\n",
              "      <td>QLD</td>\n",
              "      <td>Australia</td>\n",
              "      <td>6</td>\n",
              "      <td>0.61</td>\n",
              "      <td>0.7625</td>\n",
              "      <td>0.953125</td>\n",
              "      <td>0.810156</td>\n",
              "      <td>1</td>\n",
              "      <td>1</td>\n",
              "      <td>1.718750</td>\n",
              "    </tr>\n",
              "    <tr>\n",
              "      <th>1</th>\n",
              "      <td>Morly</td>\n",
              "      <td>Genery</td>\n",
              "      <td>Male</td>\n",
              "      <td>69</td>\n",
              "      <td>1970-03-22</td>\n",
              "      <td>Structural Engineer</td>\n",
              "      <td>Property</td>\n",
              "      <td>Mass Customer</td>\n",
              "      <td>N</td>\n",
              "      <td>No</td>\n",
              "      <td>16</td>\n",
              "      <td>14 Mccormick Park</td>\n",
              "      <td>2113</td>\n",
              "      <td>NSW</td>\n",
              "      <td>Australia</td>\n",
              "      <td>11</td>\n",
              "      <td>0.89</td>\n",
              "      <td>0.8900</td>\n",
              "      <td>1.112500</td>\n",
              "      <td>0.945625</td>\n",
              "      <td>1</td>\n",
              "      <td>1</td>\n",
              "      <td>1.718750</td>\n",
              "    </tr>\n",
              "    <tr>\n",
              "      <th>2</th>\n",
              "      <td>Ardelis</td>\n",
              "      <td>Forrester</td>\n",
              "      <td>Female</td>\n",
              "      <td>10</td>\n",
              "      <td>1974-08-28</td>\n",
              "      <td>Senior Cost Accountant</td>\n",
              "      <td>Financial Services</td>\n",
              "      <td>Affluent Customer</td>\n",
              "      <td>N</td>\n",
              "      <td>No</td>\n",
              "      <td>10</td>\n",
              "      <td>5 Colorado Crossing</td>\n",
              "      <td>3505</td>\n",
              "      <td>VIC</td>\n",
              "      <td>Australia</td>\n",
              "      <td>5</td>\n",
              "      <td>0.84</td>\n",
              "      <td>0.8400</td>\n",
              "      <td>0.840000</td>\n",
              "      <td>0.840000</td>\n",
              "      <td>1</td>\n",
              "      <td>1</td>\n",
              "      <td>1.718750</td>\n",
              "    </tr>\n",
              "    <tr>\n",
              "      <th>3</th>\n",
              "      <td>Lucine</td>\n",
              "      <td>Stutt</td>\n",
              "      <td>Female</td>\n",
              "      <td>64</td>\n",
              "      <td>1979-01-28</td>\n",
              "      <td>Account Representative III</td>\n",
              "      <td>Manufacturing</td>\n",
              "      <td>Affluent Customer</td>\n",
              "      <td>N</td>\n",
              "      <td>Yes</td>\n",
              "      <td>5</td>\n",
              "      <td>207 Annamark Plaza</td>\n",
              "      <td>4814</td>\n",
              "      <td>QLD</td>\n",
              "      <td>Australia</td>\n",
              "      <td>1</td>\n",
              "      <td>0.82</td>\n",
              "      <td>1.0250</td>\n",
              "      <td>1.025000</td>\n",
              "      <td>1.025000</td>\n",
              "      <td>4</td>\n",
              "      <td>4</td>\n",
              "      <td>1.703125</td>\n",
              "    </tr>\n",
              "    <tr>\n",
              "      <th>4</th>\n",
              "      <td>Melinda</td>\n",
              "      <td>Hadlee</td>\n",
              "      <td>Female</td>\n",
              "      <td>34</td>\n",
              "      <td>1965-09-21</td>\n",
              "      <td>Financial Analyst</td>\n",
              "      <td>Financial Services</td>\n",
              "      <td>Affluent Customer</td>\n",
              "      <td>N</td>\n",
              "      <td>No</td>\n",
              "      <td>19</td>\n",
              "      <td>115 Montana Place</td>\n",
              "      <td>2093</td>\n",
              "      <td>NSW</td>\n",
              "      <td>Australia</td>\n",
              "      <td>9</td>\n",
              "      <td>0.92</td>\n",
              "      <td>0.9200</td>\n",
              "      <td>1.150000</td>\n",
              "      <td>1.150000</td>\n",
              "      <td>4</td>\n",
              "      <td>4</td>\n",
              "      <td>1.703125</td>\n",
              "    </tr>\n",
              "  </tbody>\n",
              "</table>\n",
              "</div>"
            ],
            "text/plain": [
              "  first_name  last_name  gender  past_3_years_bike_related_purchases  \\\n",
              "0    Chickie    Brister    Male                                   86   \n",
              "1      Morly     Genery    Male                                   69   \n",
              "2    Ardelis  Forrester  Female                                   10   \n",
              "3     Lucine      Stutt  Female                                   64   \n",
              "4    Melinda     Hadlee  Female                                   34   \n",
              "\n",
              "         DOB                   job_title job_industry_category  \\\n",
              "0 1957-07-12             General Manager         Manufacturing   \n",
              "1 1970-03-22         Structural Engineer              Property   \n",
              "2 1974-08-28      Senior Cost Accountant    Financial Services   \n",
              "3 1979-01-28  Account Representative III         Manufacturing   \n",
              "4 1965-09-21           Financial Analyst    Financial Services   \n",
              "\n",
              "      wealth_segment deceased_indicator owns_car  tenure              address  \\\n",
              "0      Mass Customer                  N      Yes      14     45 Shopko Center   \n",
              "1      Mass Customer                  N       No      16    14 Mccormick Park   \n",
              "2  Affluent Customer                  N       No      10  5 Colorado Crossing   \n",
              "3  Affluent Customer                  N      Yes       5   207 Annamark Plaza   \n",
              "4  Affluent Customer                  N       No      19    115 Montana Place   \n",
              "\n",
              "   postcode state    country  property_valuation  Unnamed: 16  Unnamed: 17  \\\n",
              "0      4500   QLD  Australia                   6         0.61       0.7625   \n",
              "1      2113   NSW  Australia                  11         0.89       0.8900   \n",
              "2      3505   VIC  Australia                   5         0.84       0.8400   \n",
              "3      4814   QLD  Australia                   1         0.82       1.0250   \n",
              "4      2093   NSW  Australia                   9         0.92       0.9200   \n",
              "\n",
              "   Unnamed: 18  Unnamed: 19  Unnamed: 20  Rank     Value  \n",
              "0     0.953125     0.810156            1     1  1.718750  \n",
              "1     1.112500     0.945625            1     1  1.718750  \n",
              "2     0.840000     0.840000            1     1  1.718750  \n",
              "3     1.025000     1.025000            4     4  1.703125  \n",
              "4     1.150000     1.150000            4     4  1.703125  "
            ]
          },
          "metadata": {
            "tags": []
          },
          "execution_count": 17
        }
      ]
    },
    {
      "cell_type": "code",
      "metadata": {
        "id": "pWR774jb42nh"
      },
      "source": [
        ""
      ],
      "execution_count": null,
      "outputs": []
    }
  ]
}